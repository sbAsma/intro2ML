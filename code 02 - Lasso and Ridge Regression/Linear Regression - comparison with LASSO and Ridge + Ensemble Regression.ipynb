{
 "cells": [
  {
   "cell_type": "markdown",
   "id": "6d8efb24",
   "metadata": {},
   "source": [
    "# 1. Importing libraries"
   ]
  },
  {
   "cell_type": "code",
   "execution_count": 165,
   "id": "a9e4ac88",
   "metadata": {},
   "outputs": [],
   "source": [
    "import numpy as np\n",
    "import pandas as pd\n",
    "import matplotlib.pyplot as plt\n",
    "from sklearn.preprocessing import MinMaxScaler, StandardScaler\n",
    "from sklearn.model_selection import train_test_split, GridSearchCV\n",
    "from sklearn.linear_model import LinearRegression, Lasso, Ridge, ElasticNet\n",
    "from sklearn.pipeline import Pipeline\n",
    "from sklearn.metrics import mean_squared_error, mean_absolute_error, r2_score\n",
    "from sklearn.ensemble import VotingRegressor"
   ]
  },
  {
   "cell_type": "markdown",
   "id": "296e3286",
   "metadata": {},
   "source": [
    "# 2. Loading dataset"
   ]
  },
  {
   "cell_type": "code",
   "execution_count": 166,
   "id": "e702f5d8",
   "metadata": {},
   "outputs": [
    {
     "data": {
      "text/html": [
       "<div>\n",
       "<style scoped>\n",
       "    .dataframe tbody tr th:only-of-type {\n",
       "        vertical-align: middle;\n",
       "    }\n",
       "\n",
       "    .dataframe tbody tr th {\n",
       "        vertical-align: top;\n",
       "    }\n",
       "\n",
       "    .dataframe thead th {\n",
       "        text-align: right;\n",
       "    }\n",
       "</style>\n",
       "<table border=\"1\" class=\"dataframe\">\n",
       "  <thead>\n",
       "    <tr style=\"text-align: right;\">\n",
       "      <th></th>\n",
       "      <th>Hours</th>\n",
       "      <th>Scores</th>\n",
       "    </tr>\n",
       "  </thead>\n",
       "  <tbody>\n",
       "    <tr>\n",
       "      <th>0</th>\n",
       "      <td>2.5</td>\n",
       "      <td>21</td>\n",
       "    </tr>\n",
       "    <tr>\n",
       "      <th>1</th>\n",
       "      <td>5.1</td>\n",
       "      <td>47</td>\n",
       "    </tr>\n",
       "    <tr>\n",
       "      <th>2</th>\n",
       "      <td>3.2</td>\n",
       "      <td>27</td>\n",
       "    </tr>\n",
       "    <tr>\n",
       "      <th>3</th>\n",
       "      <td>8.5</td>\n",
       "      <td>75</td>\n",
       "    </tr>\n",
       "    <tr>\n",
       "      <th>4</th>\n",
       "      <td>3.5</td>\n",
       "      <td>30</td>\n",
       "    </tr>\n",
       "  </tbody>\n",
       "</table>\n",
       "</div>"
      ],
      "text/plain": [
       "   Hours  Scores\n",
       "0    2.5      21\n",
       "1    5.1      47\n",
       "2    3.2      27\n",
       "3    8.5      75\n",
       "4    3.5      30"
      ]
     },
     "execution_count": 166,
     "metadata": {},
     "output_type": "execute_result"
    }
   ],
   "source": [
    "df = pd.read_csv(\"dataset/student_scores.csv\")\n",
    "df.head()"
   ]
  },
  {
   "cell_type": "markdown",
   "id": "378bdf38",
   "metadata": {},
   "source": [
    "# 3. Splitting data into train/test"
   ]
  },
  {
   "cell_type": "code",
   "execution_count": 167,
   "id": "f16a9790",
   "metadata": {},
   "outputs": [],
   "source": [
    "np.random.seed(0)\n",
    "X = df[\"Hours\"].values\n",
    "y = df[\"Scores\"].values\n",
    "\n",
    "scalerX = StandardScaler()\n",
    "scalerY = StandardScaler()\n",
    "\n",
    "X = np.array(X).reshape(-1,1)\n",
    "y = np.array(y).reshape(-1,1)\n",
    "\n",
    "X = scalerX.fit_transform(X)\n",
    "y = scalerY.fit_transform(y)\n",
    "\n",
    "indices = np.arange(len(X))\n",
    "\n",
    "(\n",
    "    X_train, \n",
    "    X_test, \n",
    "    y_train, \n",
    "    y_test, \n",
    "    train_indices, \n",
    "    test_indices)= train_test_split(X, y, indices, test_size = 0.55, random_state = 70)"
   ]
  },
  {
   "cell_type": "code",
   "execution_count": 168,
   "id": "9071e0ec",
   "metadata": {},
   "outputs": [
    {
     "data": {
      "image/png": "[encoded data removed]",
      "text/plain": [
       "<Figure size 432x288 with 1 Axes>"
      ]
     },
     "metadata": {
      "needs_background": "light"
     },
     "output_type": "display_data"
    }
   ],
   "source": [
    "# df.plot.scatter(x=\"Hours\", y=\"Scores\")\n",
    "plt.scatter(X_train, y_train)\n",
    "plt.scatter(X_test, y_test)\n",
    "\n",
    "_ = plt.ylabel(\"Score (%)\")\n",
    "_ = plt.xlabel(\"Hours spent studying\")"
   ]
  },
  {
   "cell_type": "markdown",
   "id": "38f9807f",
   "metadata": {},
   "source": [
    "# 5. Linear model (least squares)"
   ]
  },
  {
   "cell_type": "markdown",
   "id": "34c4da11",
   "metadata": {},
   "source": [
    "## 5.1. Training the model"
   ]
  },
  {
   "cell_type": "code",
   "execution_count": 169,
   "id": "9f3d4696",
   "metadata": {},
   "outputs": [
    {
     "data": {
      "text/plain": [
       "LinearRegression()"
      ]
     },
     "execution_count": 169,
     "metadata": {},
     "output_type": "execute_result"
    }
   ],
   "source": [
    "lm = LinearRegression()\n",
    "lm.fit(X_train, y_train)"
   ]
  },
  {
   "cell_type": "markdown",
   "id": "5da5bad4",
   "metadata": {},
   "source": [
    "## 5.2. Testing the model"
   ]
  },
  {
   "cell_type": "code",
   "execution_count": 170,
   "id": "e7d7dd93",
   "metadata": {},
   "outputs": [],
   "source": [
    "y_pred_lin = lm.predict(X_test)"
   ]
  },
  {
   "cell_type": "markdown",
   "id": "960fc5e7",
   "metadata": {},
   "source": [
    "## 5.3. Evaluating the model"
   ]
  },
  {
   "cell_type": "code",
   "execution_count": 171,
   "id": "0ac32d05",
   "metadata": {},
   "outputs": [
    {
     "data": {
      "text/html": [
       "<div>\n",
       "<style scoped>\n",
       "    .dataframe tbody tr th:only-of-type {\n",
       "        vertical-align: middle;\n",
       "    }\n",
       "\n",
       "    .dataframe tbody tr th {\n",
       "        vertical-align: top;\n",
       "    }\n",
       "\n",
       "    .dataframe thead th {\n",
       "        text-align: right;\n",
       "    }\n",
       "</style>\n",
       "<table border=\"1\" class=\"dataframe\">\n",
       "  <thead>\n",
       "    <tr style=\"text-align: right;\">\n",
       "      <th></th>\n",
       "      <th>LR</th>\n",
       "    </tr>\n",
       "  </thead>\n",
       "  <tbody>\n",
       "    <tr>\n",
       "      <th>MSE</th>\n",
       "      <td>0.074652</td>\n",
       "    </tr>\n",
       "    <tr>\n",
       "      <th>MAE</th>\n",
       "      <td>0.232428</td>\n",
       "    </tr>\n",
       "    <tr>\n",
       "      <th>R²</th>\n",
       "      <td>0.929061</td>\n",
       "    </tr>\n",
       "  </tbody>\n",
       "</table>\n",
       "</div>"
      ],
      "text/plain": [
       "           LR\n",
       "MSE  0.074652\n",
       "MAE  0.232428\n",
       "R²   0.929061"
      ]
     },
     "execution_count": 171,
     "metadata": {},
     "output_type": "execute_result"
    }
   ],
   "source": [
    "MSE_lin = mean_squared_error(y_test,y_pred_lin)\n",
    "MAE_lin = mean_absolute_error(y_test,y_pred_lin)\n",
    "R2_lin = r2_score(y_test,y_pred_lin)\n",
    "\n",
    "evalmetrics = pd.DataFrame(data = [MSE_lin, MAE_lin, R2_lin],\n",
    "                          columns=[\"LR\"], index=[\"MSE\", \"MAE\", \"R²\"])\n",
    "\n",
    "evalmetrics"
   ]
  },
  {
   "cell_type": "markdown",
   "id": "0a01ac5c",
   "metadata": {},
   "source": [
    "## 5.4. Inspection of the test results"
   ]
  },
  {
   "cell_type": "code",
   "execution_count": 172,
   "id": "991e08fe",
   "metadata": {},
   "outputs": [],
   "source": [
    "y_pred_train = lm.predict(X_train)"
   ]
  },
  {
   "cell_type": "code",
   "execution_count": 173,
   "id": "42710d94",
   "metadata": {},
   "outputs": [],
   "source": [
    "y_test = scalerY.inverse_transform(y_test)\n",
    "y_pred_lin = scalerY.inverse_transform(y_pred_lin)\n",
    "y_pred_train = scalerY.inverse_transform(y_pred_train)\n",
    "\n",
    "\n",
    "X_test = scalerX.inverse_transform(X_test)\n",
    "X_train = scalerX.inverse_transform(X_train)\n",
    "y_train = scalerY.inverse_transform(y_train)"
   ]
  },
  {
   "cell_type": "code",
   "execution_count": 174,
   "id": "494043e8",
   "metadata": {},
   "outputs": [
    {
     "data": {
      "image/png": "[encoded data removed]",
      "text/plain": [
       "<Figure size 432x288 with 1 Axes>"
      ]
     },
     "metadata": {
      "needs_background": "light"
     },
     "output_type": "display_data"
    }
   ],
   "source": [
    "plt.scatter(X_train, y_train)\n",
    "plt.plot(X_train,y_pred_train, \"r\")\n",
    "plt.scatter(X_test, y_test)\n",
    "\n",
    "_ = plt.ylabel(\"Score (%)\")\n",
    "_ = plt.xlabel(\"Hours spent studying\")"
   ]
  },
  {
   "cell_type": "code",
   "execution_count": 175,
   "id": "b03f1566",
   "metadata": {},
   "outputs": [
    {
     "data": {
      "text/html": [
       "<div>\n",
       "<style scoped>\n",
       "    .dataframe tbody tr th:only-of-type {\n",
       "        vertical-align: middle;\n",
       "    }\n",
       "\n",
       "    .dataframe tbody tr th {\n",
       "        vertical-align: top;\n",
       "    }\n",
       "\n",
       "    .dataframe thead th {\n",
       "        text-align: right;\n",
       "    }\n",
       "</style>\n",
       "<table border=\"1\" class=\"dataframe\">\n",
       "  <thead>\n",
       "    <tr style=\"text-align: right;\">\n",
       "      <th></th>\n",
       "      <th>actual score</th>\n",
       "      <th>LR predicted score</th>\n",
       "    </tr>\n",
       "  </thead>\n",
       "  <tbody>\n",
       "    <tr>\n",
       "      <th>0</th>\n",
       "      <td>75.0</td>\n",
       "      <td>89.688170</td>\n",
       "    </tr>\n",
       "    <tr>\n",
       "      <th>1</th>\n",
       "      <td>85.0</td>\n",
       "      <td>81.202839</td>\n",
       "    </tr>\n",
       "    <tr>\n",
       "      <th>2</th>\n",
       "      <td>20.0</td>\n",
       "      <td>15.441526</td>\n",
       "    </tr>\n",
       "    <tr>\n",
       "      <th>3</th>\n",
       "      <td>24.0</td>\n",
       "      <td>19.684191</td>\n",
       "    </tr>\n",
       "    <tr>\n",
       "      <th>4</th>\n",
       "      <td>62.0</td>\n",
       "      <td>62.110845</td>\n",
       "    </tr>\n",
       "    <tr>\n",
       "      <th>5</th>\n",
       "      <td>25.0</td>\n",
       "      <td>28.169522</td>\n",
       "    </tr>\n",
       "    <tr>\n",
       "      <th>6</th>\n",
       "      <td>41.0</td>\n",
       "      <td>47.261516</td>\n",
       "    </tr>\n",
       "    <tr>\n",
       "      <th>7</th>\n",
       "      <td>95.0</td>\n",
       "      <td>93.930836</td>\n",
       "    </tr>\n",
       "    <tr>\n",
       "      <th>8</th>\n",
       "      <td>30.0</td>\n",
       "      <td>26.048189</td>\n",
       "    </tr>\n",
       "    <tr>\n",
       "      <th>9</th>\n",
       "      <td>42.0</td>\n",
       "      <td>34.533520</td>\n",
       "    </tr>\n",
       "    <tr>\n",
       "      <th>10</th>\n",
       "      <td>88.0</td>\n",
       "      <td>97.112835</td>\n",
       "    </tr>\n",
       "    <tr>\n",
       "      <th>11</th>\n",
       "      <td>27.0</td>\n",
       "      <td>33.472854</td>\n",
       "    </tr>\n",
       "    <tr>\n",
       "      <th>12</th>\n",
       "      <td>69.0</td>\n",
       "      <td>78.020840</td>\n",
       "    </tr>\n",
       "    <tr>\n",
       "      <th>13</th>\n",
       "      <td>47.0</td>\n",
       "      <td>53.625514</td>\n",
       "    </tr>\n",
       "  </tbody>\n",
       "</table>\n",
       "</div>"
      ],
      "text/plain": [
       "    actual score  LR predicted score\n",
       "0           75.0           89.688170\n",
       "1           85.0           81.202839\n",
       "2           20.0           15.441526\n",
       "3           24.0           19.684191\n",
       "4           62.0           62.110845\n",
       "5           25.0           28.169522\n",
       "6           41.0           47.261516\n",
       "7           95.0           93.930836\n",
       "8           30.0           26.048189\n",
       "9           42.0           34.533520\n",
       "10          88.0           97.112835\n",
       "11          27.0           33.472854\n",
       "12          69.0           78.020840\n",
       "13          47.0           53.625514"
      ]
     },
     "execution_count": 175,
     "metadata": {},
     "output_type": "execute_result"
    }
   ],
   "source": [
    "TestingData=pd.DataFrame(data=y_test, columns=[\"actual score\"])\n",
    "TestingData['LR predicted score']=y_pred_lin\n",
    "\n",
    "TestingData"
   ]
  },
  {
   "cell_type": "code",
   "execution_count": 176,
   "id": "956906c0",
   "metadata": {},
   "outputs": [
    {
     "data": {
      "image/png": "[encoded data removed]",
      "text/plain": [
       "<Figure size 1224x576 with 1 Axes>"
      ]
     },
     "metadata": {
      "needs_background": "light"
     },
     "output_type": "display_data"
    }
   ],
   "source": [
    "TestingData.plot.bar(figsize=(17, 8))\n",
    "plt.ylabel(\"Score\")\n",
    "plt.xlabel(\"Test sample\")\n",
    "plt.show()"
   ]
  },
  {
   "cell_type": "markdown",
   "id": "25d73246",
   "metadata": {},
   "source": [
    "# 6. LASSO Regression"
   ]
  },
  {
   "cell_type": "markdown",
   "id": "62fc8cf3",
   "metadata": {},
   "source": [
    "## 6.1. Re-assigning the samples"
   ]
  },
  {
   "cell_type": "code",
   "execution_count": 177,
   "id": "8edaaee8",
   "metadata": {},
   "outputs": [],
   "source": [
    "X = df[\"Hours\"].values\n",
    "y = df[\"Scores\"].values\n",
    "\n",
    "scalerX = StandardScaler()\n",
    "scalerY = StandardScaler()\n",
    "\n",
    "X = np.array(X).reshape(-1,1)\n",
    "y = np.array(y).reshape(-1,1)\n",
    "\n",
    "X = scalerX.fit_transform(X)\n",
    "y = scalerY.fit_transform(y)\n",
    "\n",
    "X_train = X[train_indices]\n",
    "X_test = X[test_indices]\n",
    "y_train = y[train_indices]\n",
    "y_test = y[test_indices]"
   ]
  },
  {
   "cell_type": "markdown",
   "id": "0956ab7d",
   "metadata": {},
   "source": [
    "## 6.2. GridSearch"
   ]
  },
  {
   "cell_type": "markdown",
   "id": "3d357f15",
   "metadata": {},
   "source": [
    "#### How grid search works"
   ]
  },
  {
   "cell_type": "code",
   "execution_count": 178,
   "id": "3be432b1",
   "metadata": {
    "scrolled": true
   },
   "outputs": [
    {
     "name": "stdout",
     "output_type": "stream",
     "text": [
      "Fitting 5 folds for each of 10 candidates, totalling 50 fits\n",
      "[CV 1/5] END ................model__alpha=2.43;, score=-0.039 total time=   0.0s\n",
      "[CV 2/5] END ................model__alpha=2.43;, score=-5.346 total time=   0.0s\n",
      "[CV 3/5] END ................model__alpha=2.43;, score=-0.103 total time=   0.0s\n",
      "[CV 4/5] END ................model__alpha=2.43;, score=-0.124 total time=   0.0s\n",
      "[CV 5/5] END ...............model__alpha=2.43;, score=-11.194 total time=   0.0s\n",
      "[CV 1/5] END ...............model__alpha=2.431;, score=-0.039 total time=   0.0s\n",
      "[CV 2/5] END ...............model__alpha=2.431;, score=-5.346 total time=   0.0s\n",
      "[CV 3/5] END ...............model__alpha=2.431;, score=-0.103 total time=   0.0s\n",
      "[CV 4/5] END ...............model__alpha=2.431;, score=-0.124 total time=   0.0s\n",
      "[CV 5/5] END ..............model__alpha=2.431;, score=-11.194 total time=   0.0s\n",
      "[CV 1/5] END ...............model__alpha=2.432;, score=-0.039 total time=   0.0s\n",
      "[CV 2/5] END ...............model__alpha=2.432;, score=-5.346 total time=   0.0s\n",
      "[CV 3/5] END ...............model__alpha=2.432;, score=-0.103 total time=   0.0s\n",
      "[CV 4/5] END ...............model__alpha=2.432;, score=-0.124 total time=   0.0s\n",
      "[CV 5/5] END ..............model__alpha=2.432;, score=-11.194 total time=   0.0s\n",
      "[CV 1/5] END ...............model__alpha=2.433;, score=-0.039 total time=   0.0s\n",
      "[CV 2/5] END ...............model__alpha=2.433;, score=-5.346 total time=   0.0s\n",
      "[CV 3/5] END ...............model__alpha=2.433;, score=-0.103 total time=   0.0s\n",
      "[CV 4/5] END ...............model__alpha=2.433;, score=-0.124 total time=   0.0s\n",
      "[CV 5/5] END ..............model__alpha=2.433;, score=-11.194 total time=   0.0s\n",
      "[CV 1/5] END ..model__alpha=2.4339999999999997;, score=-0.039 total time=   0.0s\n",
      "[CV 2/5] END ..model__alpha=2.4339999999999997;, score=-5.346 total time=   0.0s\n",
      "[CV 3/5] END ..model__alpha=2.4339999999999997;, score=-0.103 total time=   0.0s\n",
      "[CV 4/5] END ..model__alpha=2.4339999999999997;, score=-0.124 total time=   0.0s\n",
      "[CV 5/5] END .model__alpha=2.4339999999999997;, score=-11.194 total time=   0.0s\n",
      "[CV 1/5] END ..model__alpha=2.4349999999999996;, score=-0.039 total time=   0.0s\n",
      "[CV 2/5] END ..model__alpha=2.4349999999999996;, score=-5.346 total time=   0.0s\n",
      "[CV 3/5] END ..model__alpha=2.4349999999999996;, score=-0.103 total time=   0.0s\n",
      "[CV 4/5] END ..model__alpha=2.4349999999999996;, score=-0.124 total time=   0.0s\n",
      "[CV 5/5] END .model__alpha=2.4349999999999996;, score=-11.194 total time=   0.0s\n",
      "[CV 1/5] END ..model__alpha=2.4359999999999995;, score=-0.039 total time=   0.0s\n",
      "[CV 2/5] END ..model__alpha=2.4359999999999995;, score=-5.346 total time=   0.0s\n",
      "[CV 3/5] END ..model__alpha=2.4359999999999995;, score=-0.103 total time=   0.0s\n",
      "[CV 4/5] END ..model__alpha=2.4359999999999995;, score=-0.124 total time=   0.0s\n",
      "[CV 5/5] END .model__alpha=2.4359999999999995;, score=-11.194 total time=   0.0s\n",
      "[CV 1/5] END ..model__alpha=2.4369999999999994;, score=-0.039 total time=   0.0s\n",
      "[CV 2/5] END ..model__alpha=2.4369999999999994;, score=-5.346 total time=   0.0s\n",
      "[CV 3/5] END ..model__alpha=2.4369999999999994;, score=-0.103 total time=   0.0s\n",
      "[CV 4/5] END ..model__alpha=2.4369999999999994;, score=-0.124 total time=   0.0s\n",
      "[CV 5/5] END .model__alpha=2.4369999999999994;, score=-11.194 total time=   0.0s\n",
      "[CV 1/5] END ..model__alpha=2.4379999999999993;, score=-0.039 total time=   0.0s\n",
      "[CV 2/5] END ..model__alpha=2.4379999999999993;, score=-5.346 total time=   0.0s\n",
      "[CV 3/5] END ..model__alpha=2.4379999999999993;, score=-0.103 total time=   0.0s\n",
      "[CV 4/5] END ..model__alpha=2.4379999999999993;, score=-0.124 total time=   0.0s\n",
      "[CV 5/5] END .model__alpha=2.4379999999999993;, score=-11.194 total time=   0.0s\n",
      "[CV 1/5] END ...model__alpha=2.438999999999999;, score=-0.039 total time=   0.0s\n",
      "[CV 2/5] END ...model__alpha=2.438999999999999;, score=-5.346 total time=   0.0s\n",
      "[CV 3/5] END ...model__alpha=2.438999999999999;, score=-0.103 total time=   0.0s\n",
      "[CV 4/5] END ...model__alpha=2.438999999999999;, score=-0.124 total time=   0.0s\n",
      "[CV 5/5] END ..model__alpha=2.438999999999999;, score=-11.194 total time=   0.0s\n"
     ]
    }
   ],
   "source": [
    "pipeline = Pipeline([\n",
    "                     ('model',Lasso())\n",
    "])\n",
    "\n",
    "search = GridSearchCV(pipeline,\n",
    "                      {'model__alpha':np.arange(2.43,2.44,0.001)}, # 0.1,40,0.1\n",
    "                      cv = 5, scoring='r2',verbose=3\n",
    "                      )\n",
    "search_results = search.fit(X_train,y_train)"
   ]
  },
  {
   "cell_type": "markdown",
   "id": "6b1ccd19",
   "metadata": {},
   "source": [
    "#### Taking off the CV search evolution"
   ]
  },
  {
   "cell_type": "code",
   "execution_count": 179,
   "id": "a9bfb1c3",
   "metadata": {},
   "outputs": [],
   "source": [
    "search_results_lasso = {}\n",
    "try_idx = 1"
   ]
  },
  {
   "cell_type": "code",
   "execution_count": 180,
   "id": "3bbe6921",
   "metadata": {
    "scrolled": true
   },
   "outputs": [
    {
     "name": "stdout",
     "output_type": "stream",
     "text": [
      "try  1  :  {'alpha': 0.09309999999999949, 'Best CV score': 0.8761556920574222}\n"
     ]
    }
   ],
   "source": [
    "pipeline = Pipeline([\n",
    "                     ('model',Lasso())\n",
    "])\n",
    "\n",
    "search = GridSearchCV(pipeline,\n",
    "                      {'model__alpha':np.arange(0.01,0.1,0.0001)}, # 0.1,40,0.1\n",
    "                      cv = 5, scoring='r2'\n",
    "                      )\n",
    "search_results = search.fit(X_train,y_train)\n",
    "\n",
    "search_results_lasso[str(try_idx)] ={\n",
    "    \"alpha\": search_results.best_params_['model__alpha'],\n",
    "    \"Best CV score\": search_results.best_score_\n",
    "}\n",
    "\n",
    "try_idx+=1\n",
    "for try_idx_ in search_results_lasso:\n",
    "    print(\"try \", try_idx_, \" : \", search_results_lasso[try_idx_])"
   ]
  },
  {
   "cell_type": "markdown",
   "id": "380ed77f",
   "metadata": {},
   "source": [
    "## 6.3. Training, testing and evaluating the LASSO model"
   ]
  },
  {
   "cell_type": "code",
   "execution_count": 181,
   "id": "9d690a82",
   "metadata": {
    "scrolled": true
   },
   "outputs": [
    {
     "data": {
      "text/html": [
       "<div>\n",
       "<style scoped>\n",
       "    .dataframe tbody tr th:only-of-type {\n",
       "        vertical-align: middle;\n",
       "    }\n",
       "\n",
       "    .dataframe tbody tr th {\n",
       "        vertical-align: top;\n",
       "    }\n",
       "\n",
       "    .dataframe thead th {\n",
       "        text-align: right;\n",
       "    }\n",
       "</style>\n",
       "<table border=\"1\" class=\"dataframe\">\n",
       "  <thead>\n",
       "    <tr style=\"text-align: right;\">\n",
       "      <th></th>\n",
       "      <th>LR</th>\n",
       "      <th>LASSO</th>\n",
       "    </tr>\n",
       "  </thead>\n",
       "  <tbody>\n",
       "    <tr>\n",
       "      <th>MSE</th>\n",
       "      <td>0.074652</td>\n",
       "      <td>0.054392</td>\n",
       "    </tr>\n",
       "    <tr>\n",
       "      <th>MAE</th>\n",
       "      <td>0.232428</td>\n",
       "      <td>0.201915</td>\n",
       "    </tr>\n",
       "    <tr>\n",
       "      <th>R²</th>\n",
       "      <td>0.929061</td>\n",
       "      <td>0.948314</td>\n",
       "    </tr>\n",
       "  </tbody>\n",
       "</table>\n",
       "</div>"
      ],
      "text/plain": [
       "           LR     LASSO\n",
       "MSE  0.074652  0.054392\n",
       "MAE  0.232428  0.201915\n",
       "R²   0.929061  0.948314"
      ]
     },
     "execution_count": 181,
     "metadata": {},
     "output_type": "execute_result"
    }
   ],
   "source": [
    "lasso_alpha = search.best_params_['model__alpha']\n",
    "\n",
    "lasso_reg = Lasso(alpha= lasso_alpha)\n",
    "lasso_reg.fit(X_train, y_train)\n",
    "y_pred_lasso = lasso_reg.predict(X_test)\n",
    "\n",
    "MSE_lasso = mean_squared_error(y_test, y_pred_lasso)\n",
    "MAE_lasso = mean_absolute_error(y_test, y_pred_lasso)\n",
    "R2_lasso = r2_score(y_test, y_pred_lasso)\n",
    "\n",
    "\n",
    "evalmetrics[\"LASSO\"] = [MSE_lasso, MAE_lasso, R2_lasso]\n",
    "\n",
    "evalmetrics"
   ]
  },
  {
   "cell_type": "markdown",
   "id": "b901a39e",
   "metadata": {},
   "source": [
    "## 6.4. Comparing Least squares and LASSO models performances"
   ]
  },
  {
   "cell_type": "code",
   "execution_count": 182,
   "id": "fa9d21fc",
   "metadata": {},
   "outputs": [],
   "source": [
    "y_pred_lasso = scalerY.inverse_transform(y_pred_lasso.reshape(-1,1))\n",
    "y_test = scalerY.inverse_transform(y_test)"
   ]
  },
  {
   "cell_type": "code",
   "execution_count": 183,
   "id": "acaa9f86",
   "metadata": {},
   "outputs": [],
   "source": [
    "comparison = []\n",
    "for i in range(len(y_test)):\n",
    "    if np.abs(y_test[i] - y_pred_lin[i]) > np.abs(y_test[i] - y_pred_lasso[i]):\n",
    "        comparison.append(\"LASSO is better\")\n",
    "    else:\n",
    "        comparison.append(\"LR is better\")"
   ]
  },
  {
   "cell_type": "code",
   "execution_count": 184,
   "id": "e88b449b",
   "metadata": {},
   "outputs": [
    {
     "data": {
      "text/html": [
       "<div>\n",
       "<style scoped>\n",
       "    .dataframe tbody tr th:only-of-type {\n",
       "        vertical-align: middle;\n",
       "    }\n",
       "\n",
       "    .dataframe tbody tr th {\n",
       "        vertical-align: top;\n",
       "    }\n",
       "\n",
       "    .dataframe thead th {\n",
       "        text-align: right;\n",
       "    }\n",
       "</style>\n",
       "<table border=\"1\" class=\"dataframe\">\n",
       "  <thead>\n",
       "    <tr style=\"text-align: right;\">\n",
       "      <th></th>\n",
       "      <th>actual score</th>\n",
       "      <th>LR predicted score</th>\n",
       "      <th>LASSO predicted score</th>\n",
       "      <th>Comparison</th>\n",
       "    </tr>\n",
       "  </thead>\n",
       "  <tbody>\n",
       "    <tr>\n",
       "      <th>0</th>\n",
       "      <td>75.0</td>\n",
       "      <td>89.688170</td>\n",
       "      <td>85.401419</td>\n",
       "      <td>LASSO is better</td>\n",
       "    </tr>\n",
       "    <tr>\n",
       "      <th>1</th>\n",
       "      <td>85.0</td>\n",
       "      <td>81.202839</td>\n",
       "      <td>77.847530</td>\n",
       "      <td>LR is better</td>\n",
       "    </tr>\n",
       "    <tr>\n",
       "      <th>2</th>\n",
       "      <td>20.0</td>\n",
       "      <td>15.441526</td>\n",
       "      <td>19.304894</td>\n",
       "      <td>LASSO is better</td>\n",
       "    </tr>\n",
       "    <tr>\n",
       "      <th>3</th>\n",
       "      <td>24.0</td>\n",
       "      <td>19.684191</td>\n",
       "      <td>23.081838</td>\n",
       "      <td>LASSO is better</td>\n",
       "    </tr>\n",
       "    <tr>\n",
       "      <th>4</th>\n",
       "      <td>62.0</td>\n",
       "      <td>62.110845</td>\n",
       "      <td>60.851281</td>\n",
       "      <td>LR is better</td>\n",
       "    </tr>\n",
       "    <tr>\n",
       "      <th>5</th>\n",
       "      <td>25.0</td>\n",
       "      <td>28.169522</td>\n",
       "      <td>30.635727</td>\n",
       "      <td>LR is better</td>\n",
       "    </tr>\n",
       "    <tr>\n",
       "      <th>6</th>\n",
       "      <td>41.0</td>\n",
       "      <td>47.261516</td>\n",
       "      <td>47.631976</td>\n",
       "      <td>LR is better</td>\n",
       "    </tr>\n",
       "    <tr>\n",
       "      <th>7</th>\n",
       "      <td>95.0</td>\n",
       "      <td>93.930836</td>\n",
       "      <td>89.178363</td>\n",
       "      <td>LR is better</td>\n",
       "    </tr>\n",
       "    <tr>\n",
       "      <th>8</th>\n",
       "      <td>30.0</td>\n",
       "      <td>26.048189</td>\n",
       "      <td>28.747255</td>\n",
       "      <td>LASSO is better</td>\n",
       "    </tr>\n",
       "    <tr>\n",
       "      <th>9</th>\n",
       "      <td>42.0</td>\n",
       "      <td>34.533520</td>\n",
       "      <td>36.301143</td>\n",
       "      <td>LASSO is better</td>\n",
       "    </tr>\n",
       "    <tr>\n",
       "      <th>10</th>\n",
       "      <td>88.0</td>\n",
       "      <td>97.112835</td>\n",
       "      <td>92.011072</td>\n",
       "      <td>LASSO is better</td>\n",
       "    </tr>\n",
       "    <tr>\n",
       "      <th>11</th>\n",
       "      <td>27.0</td>\n",
       "      <td>33.472854</td>\n",
       "      <td>35.356907</td>\n",
       "      <td>LR is better</td>\n",
       "    </tr>\n",
       "    <tr>\n",
       "      <th>12</th>\n",
       "      <td>69.0</td>\n",
       "      <td>78.020840</td>\n",
       "      <td>75.014822</td>\n",
       "      <td>LASSO is better</td>\n",
       "    </tr>\n",
       "    <tr>\n",
       "      <th>13</th>\n",
       "      <td>47.0</td>\n",
       "      <td>53.625514</td>\n",
       "      <td>53.297393</td>\n",
       "      <td>LASSO is better</td>\n",
       "    </tr>\n",
       "  </tbody>\n",
       "</table>\n",
       "</div>"
      ],
      "text/plain": [
       "    actual score  LR predicted score  LASSO predicted score       Comparison\n",
       "0           75.0           89.688170              85.401419  LASSO is better\n",
       "1           85.0           81.202839              77.847530     LR is better\n",
       "2           20.0           15.441526              19.304894  LASSO is better\n",
       "3           24.0           19.684191              23.081838  LASSO is better\n",
       "4           62.0           62.110845              60.851281     LR is better\n",
       "5           25.0           28.169522              30.635727     LR is better\n",
       "6           41.0           47.261516              47.631976     LR is better\n",
       "7           95.0           93.930836              89.178363     LR is better\n",
       "8           30.0           26.048189              28.747255  LASSO is better\n",
       "9           42.0           34.533520              36.301143  LASSO is better\n",
       "10          88.0           97.112835              92.011072  LASSO is better\n",
       "11          27.0           33.472854              35.356907     LR is better\n",
       "12          69.0           78.020840              75.014822  LASSO is better\n",
       "13          47.0           53.625514              53.297393  LASSO is better"
      ]
     },
     "execution_count": 184,
     "metadata": {},
     "output_type": "execute_result"
    }
   ],
   "source": [
    "TestingData['LASSO predicted score']=y_pred_lasso\n",
    "TestingData_ = TestingData.copy()\n",
    "TestingData_['Comparison']=comparison\n",
    "\n",
    "TestingData_"
   ]
  },
  {
   "cell_type": "code",
   "execution_count": 185,
   "id": "2569636d",
   "metadata": {
    "scrolled": false
   },
   "outputs": [
    {
     "data": {
      "image/png": "[encoded data removed]",
      "text/plain": [
       "<Figure size 1224x576 with 1 Axes>"
      ]
     },
     "metadata": {
      "needs_background": "light"
     },
     "output_type": "display_data"
    }
   ],
   "source": [
    "TestingData.plot.bar(figsize=(17, 8))\n",
    "plt.ylabel(\"Score\")\n",
    "plt.xlabel(\"Test sample\")\n",
    "plt.show()"
   ]
  },
  {
   "cell_type": "code",
   "execution_count": 186,
   "id": "4b67fe33",
   "metadata": {},
   "outputs": [],
   "source": [
    "X_test = scalerX.inverse_transform(X_test)\n",
    "X_train = scalerX.inverse_transform(X_train)\n",
    "\n",
    "y_train = scalerY.inverse_transform(y_train)"
   ]
  },
  {
   "cell_type": "code",
   "execution_count": 187,
   "id": "f71d18c2",
   "metadata": {},
   "outputs": [],
   "source": [
    "X_plot = np.arange(-1.5,1.5,0.001).reshape(-1,1)\n",
    "y_plot_pred_lin = lm.predict(X_plot)\n",
    "y_plot_pred_lasso = lasso_reg.predict(X_plot)\n",
    "\n",
    "X_plot = scalerX.inverse_transform(X_plot)\n",
    "y_plot_pred_lin = scalerY.inverse_transform(y_plot_pred_lin)\n",
    "y_plot_pred_lasso = scalerY.inverse_transform(y_plot_pred_lasso.reshape(-1,1))"
   ]
  },
  {
   "cell_type": "code",
   "execution_count": 188,
   "id": "506c3ebd",
   "metadata": {},
   "outputs": [
    {
     "data": {
      "image/png": "[encoded data removed]",
      "text/plain": [
       "<Figure size 432x288 with 1 Axes>"
      ]
     },
     "metadata": {
      "needs_background": "light"
     },
     "output_type": "display_data"
    }
   ],
   "source": [
    "plt.scatter(X_train, y_train)\n",
    "plt.plot(X_plot,y_plot_pred_lin, \"r\")\n",
    "plt.plot(X_plot,y_plot_pred_lasso, \"green\")\n",
    "plt.scatter(X_test, y_test)\n",
    "\n",
    "_ = plt.ylabel(\"Score (%)\")\n",
    "_ = plt.xlabel(\"Hours spent studying\")"
   ]
  },
  {
   "cell_type": "markdown",
   "id": "62bf87e3",
   "metadata": {},
   "source": [
    "# 7. Ridge Regression"
   ]
  },
  {
   "cell_type": "markdown",
   "id": "fe2c074c",
   "metadata": {},
   "source": [
    "## 7.1. Re-assigning the samples"
   ]
  },
  {
   "cell_type": "code",
   "execution_count": 189,
   "id": "2adaf408",
   "metadata": {},
   "outputs": [],
   "source": [
    "X = df[\"Hours\"].values\n",
    "y = df[\"Scores\"].values\n",
    "\n",
    "scalerX = StandardScaler()\n",
    "scalerY = StandardScaler()\n",
    "\n",
    "X = np.array(X).reshape(-1,1)\n",
    "y = np.array(y).reshape(-1,1)\n",
    "\n",
    "X = scalerX.fit_transform(X)\n",
    "y = scalerY.fit_transform(y)\n",
    "\n",
    "X_train = X[train_indices]\n",
    "X_test = X[test_indices]\n",
    "y_train = y[train_indices]\n",
    "y_test = y[test_indices]"
   ]
  },
  {
   "cell_type": "markdown",
   "id": "e82785f2",
   "metadata": {},
   "source": [
    "## 7.2. GridSearch"
   ]
  },
  {
   "cell_type": "code",
   "execution_count": 190,
   "id": "bd94d481",
   "metadata": {},
   "outputs": [],
   "source": [
    "search_results_ridge = {}\n",
    "try_idx = 1"
   ]
  },
  {
   "cell_type": "code",
   "execution_count": 191,
   "id": "a341c5e5",
   "metadata": {
    "scrolled": true
   },
   "outputs": [
    {
     "name": "stdout",
     "output_type": "stream",
     "text": [
      "try  1  :  {'alpha': 0.8661999999999928, 'Best CV score': 0.8771074551411845}\n"
     ]
    }
   ],
   "source": [
    "pipeline = Pipeline([\n",
    "                     ('model',Ridge())\n",
    "])\n",
    "\n",
    "search = GridSearchCV(pipeline,\n",
    "                      {'model__alpha':np.arange(0.8,0.9,0.0001)}, # 0.1,40,0.1\n",
    "                      cv = 5, scoring='r2' # neg_mean_squared_error\n",
    "                      )\n",
    "search_results = search.fit(X_train,y_train)\n",
    "\n",
    "search_results_ridge[str(try_idx)] ={\n",
    "    \"alpha\": search_results.best_params_['model__alpha'],\n",
    "    \"Best CV score\": search_results.best_score_\n",
    "}\n",
    "\n",
    "try_idx+=1\n",
    "for try_idx_ in search_results_ridge:\n",
    "    print(\"try \", try_idx_, \" : \", search_results_ridge[try_idx_])"
   ]
  },
  {
   "cell_type": "code",
   "execution_count": 195,
   "id": "b92f9133",
   "metadata": {},
   "outputs": [
    {
     "data": {
      "text/plain": [
       "0.8661999999999928"
      ]
     },
     "execution_count": 195,
     "metadata": {},
     "output_type": "execute_result"
    }
   ],
   "source": [
    "ridge_alpha"
   ]
  },
  {
   "cell_type": "markdown",
   "id": "4c4f4cd2",
   "metadata": {},
   "source": [
    "## 7.3. Training, testing and evaluating the Ridge model"
   ]
  },
  {
   "cell_type": "code",
   "execution_count": 192,
   "id": "3d16d0a4",
   "metadata": {
    "scrolled": true
   },
   "outputs": [
    {
     "data": {
      "text/html": [
       "<div>\n",
       "<style scoped>\n",
       "    .dataframe tbody tr th:only-of-type {\n",
       "        vertical-align: middle;\n",
       "    }\n",
       "\n",
       "    .dataframe tbody tr th {\n",
       "        vertical-align: top;\n",
       "    }\n",
       "\n",
       "    .dataframe thead th {\n",
       "        text-align: right;\n",
       "    }\n",
       "</style>\n",
       "<table border=\"1\" class=\"dataframe\">\n",
       "  <thead>\n",
       "    <tr style=\"text-align: right;\">\n",
       "      <th></th>\n",
       "      <th>LR</th>\n",
       "      <th>LASSO</th>\n",
       "      <th>ridge</th>\n",
       "    </tr>\n",
       "  </thead>\n",
       "  <tbody>\n",
       "    <tr>\n",
       "      <th>MSE</th>\n",
       "      <td>0.074652</td>\n",
       "      <td>0.054392</td>\n",
       "      <td>0.055754</td>\n",
       "    </tr>\n",
       "    <tr>\n",
       "      <th>MAE</th>\n",
       "      <td>0.232428</td>\n",
       "      <td>0.201915</td>\n",
       "      <td>0.207422</td>\n",
       "    </tr>\n",
       "    <tr>\n",
       "      <th>R²</th>\n",
       "      <td>0.929061</td>\n",
       "      <td>0.948314</td>\n",
       "      <td>0.947019</td>\n",
       "    </tr>\n",
       "  </tbody>\n",
       "</table>\n",
       "</div>"
      ],
      "text/plain": [
       "           LR     LASSO     ridge\n",
       "MSE  0.074652  0.054392  0.055754\n",
       "MAE  0.232428  0.201915  0.207422\n",
       "R²   0.929061  0.948314  0.947019"
      ]
     },
     "execution_count": 192,
     "metadata": {},
     "output_type": "execute_result"
    }
   ],
   "source": [
    "ridge_alpha = search.best_params_['model__alpha']\n",
    "\n",
    "ridge_reg = Ridge(alpha= ridge_alpha)\n",
    "ridge_reg.fit(X_train, y_train)\n",
    "y_pred_ridge = ridge_reg.predict(X_test)\n",
    "\n",
    "MSE_ridge = mean_squared_error(y_test, y_pred_ridge)\n",
    "MAE_ridge = mean_absolute_error(y_test, y_pred_ridge)\n",
    "R2_ridge = r2_score(y_test, y_pred_ridge)\n",
    "\n",
    "evalmetrics[\"ridge\"] = [MSE_ridge, MAE_ridge, R2_ridge]\n",
    "\n",
    "evalmetrics"
   ]
  },
  {
   "cell_type": "markdown",
   "id": "84f16c54",
   "metadata": {},
   "source": [
    "## 7.4. Comparing Least squares, LASSO and Ridge models performances"
   ]
  },
  {
   "cell_type": "code",
   "execution_count": 57,
   "id": "efc81a50",
   "metadata": {},
   "outputs": [],
   "source": [
    "y_pred_ridge = scalerY.inverse_transform(y_pred_ridge.reshape(-1,1))\n",
    "y_test = scalerY.inverse_transform(y_test)"
   ]
  },
  {
   "cell_type": "code",
   "execution_count": 58,
   "id": "d154e1af",
   "metadata": {},
   "outputs": [],
   "source": [
    "comparison = []\n",
    "diff_lin = np.abs(y_test - y_pred_lin)\n",
    "diff_ridge = np.abs(y_test - y_pred_ridge)\n",
    "diff_lasso = np.abs(y_test - y_pred_lasso)\n",
    "for i in range(len(y_test)):\n",
    "    if diff_lin[i] < diff_ridge[i] and diff_lin[i] < diff_lasso[i]:\n",
    "        comparison.append(\"LR is better\")\n",
    "    elif diff_ridge[i] < diff_lin[i] and diff_ridge[i] < diff_lasso[i]:\n",
    "        comparison.append(\"ridge is better\")\n",
    "    else:\n",
    "        comparison.append(\"lasso is better\")"
   ]
  },
  {
   "cell_type": "code",
   "execution_count": 59,
   "id": "aea9e8f8",
   "metadata": {},
   "outputs": [
    {
     "data": {
      "text/html": [
       "<div>\n",
       "<style scoped>\n",
       "    .dataframe tbody tr th:only-of-type {\n",
       "        vertical-align: middle;\n",
       "    }\n",
       "\n",
       "    .dataframe tbody tr th {\n",
       "        vertical-align: top;\n",
       "    }\n",
       "\n",
       "    .dataframe thead th {\n",
       "        text-align: right;\n",
       "    }\n",
       "</style>\n",
       "<table border=\"1\" class=\"dataframe\">\n",
       "  <thead>\n",
       "    <tr style=\"text-align: right;\">\n",
       "      <th></th>\n",
       "      <th>actual score</th>\n",
       "      <th>LR predicted score</th>\n",
       "      <th>LASSO predicted score</th>\n",
       "      <th>Ridge predicted score</th>\n",
       "      <th>Comparison</th>\n",
       "    </tr>\n",
       "  </thead>\n",
       "  <tbody>\n",
       "    <tr>\n",
       "      <th>0</th>\n",
       "      <td>75.0</td>\n",
       "      <td>89.688170</td>\n",
       "      <td>85.401419</td>\n",
       "      <td>86.191708</td>\n",
       "      <td>lasso is better</td>\n",
       "    </tr>\n",
       "    <tr>\n",
       "      <th>1</th>\n",
       "      <td>85.0</td>\n",
       "      <td>81.202839</td>\n",
       "      <td>77.847530</td>\n",
       "      <td>78.466102</td>\n",
       "      <td>LR is better</td>\n",
       "    </tr>\n",
       "    <tr>\n",
       "      <th>2</th>\n",
       "      <td>20.0</td>\n",
       "      <td>15.441526</td>\n",
       "      <td>19.304894</td>\n",
       "      <td>18.592658</td>\n",
       "      <td>lasso is better</td>\n",
       "    </tr>\n",
       "    <tr>\n",
       "      <th>3</th>\n",
       "      <td>24.0</td>\n",
       "      <td>19.684191</td>\n",
       "      <td>23.081838</td>\n",
       "      <td>22.455461</td>\n",
       "      <td>lasso is better</td>\n",
       "    </tr>\n",
       "    <tr>\n",
       "      <th>4</th>\n",
       "      <td>62.0</td>\n",
       "      <td>62.110845</td>\n",
       "      <td>60.851281</td>\n",
       "      <td>61.083490</td>\n",
       "      <td>LR is better</td>\n",
       "    </tr>\n",
       "    <tr>\n",
       "      <th>5</th>\n",
       "      <td>25.0</td>\n",
       "      <td>28.169522</td>\n",
       "      <td>30.635727</td>\n",
       "      <td>30.181067</td>\n",
       "      <td>LR is better</td>\n",
       "    </tr>\n",
       "    <tr>\n",
       "      <th>6</th>\n",
       "      <td>41.0</td>\n",
       "      <td>47.261516</td>\n",
       "      <td>47.631976</td>\n",
       "      <td>47.563680</td>\n",
       "      <td>LR is better</td>\n",
       "    </tr>\n",
       "    <tr>\n",
       "      <th>7</th>\n",
       "      <td>95.0</td>\n",
       "      <td>93.930836</td>\n",
       "      <td>89.178363</td>\n",
       "      <td>90.054511</td>\n",
       "      <td>LR is better</td>\n",
       "    </tr>\n",
       "    <tr>\n",
       "      <th>8</th>\n",
       "      <td>30.0</td>\n",
       "      <td>26.048189</td>\n",
       "      <td>28.747255</td>\n",
       "      <td>28.249665</td>\n",
       "      <td>lasso is better</td>\n",
       "    </tr>\n",
       "    <tr>\n",
       "      <th>9</th>\n",
       "      <td>42.0</td>\n",
       "      <td>34.533520</td>\n",
       "      <td>36.301143</td>\n",
       "      <td>35.975271</td>\n",
       "      <td>lasso is better</td>\n",
       "    </tr>\n",
       "    <tr>\n",
       "      <th>10</th>\n",
       "      <td>88.0</td>\n",
       "      <td>97.112835</td>\n",
       "      <td>92.011072</td>\n",
       "      <td>92.951613</td>\n",
       "      <td>lasso is better</td>\n",
       "    </tr>\n",
       "    <tr>\n",
       "      <th>11</th>\n",
       "      <td>27.0</td>\n",
       "      <td>33.472854</td>\n",
       "      <td>35.356907</td>\n",
       "      <td>35.009570</td>\n",
       "      <td>LR is better</td>\n",
       "    </tr>\n",
       "    <tr>\n",
       "      <th>12</th>\n",
       "      <td>69.0</td>\n",
       "      <td>78.020840</td>\n",
       "      <td>75.014822</td>\n",
       "      <td>75.569000</td>\n",
       "      <td>lasso is better</td>\n",
       "    </tr>\n",
       "    <tr>\n",
       "      <th>13</th>\n",
       "      <td>47.0</td>\n",
       "      <td>53.625514</td>\n",
       "      <td>53.297393</td>\n",
       "      <td>53.357884</td>\n",
       "      <td>lasso is better</td>\n",
       "    </tr>\n",
       "  </tbody>\n",
       "</table>\n",
       "</div>"
      ],
      "text/plain": [
       "    actual score  LR predicted score  LASSO predicted score  \\\n",
       "0           75.0           89.688170              85.401419   \n",
       "1           85.0           81.202839              77.847530   \n",
       "2           20.0           15.441526              19.304894   \n",
       "3           24.0           19.684191              23.081838   \n",
       "4           62.0           62.110845              60.851281   \n",
       "5           25.0           28.169522              30.635727   \n",
       "6           41.0           47.261516              47.631976   \n",
       "7           95.0           93.930836              89.178363   \n",
       "8           30.0           26.048189              28.747255   \n",
       "9           42.0           34.533520              36.301143   \n",
       "10          88.0           97.112835              92.011072   \n",
       "11          27.0           33.472854              35.356907   \n",
       "12          69.0           78.020840              75.014822   \n",
       "13          47.0           53.625514              53.297393   \n",
       "\n",
       "    Ridge predicted score       Comparison  \n",
       "0               86.191708  lasso is better  \n",
       "1               78.466102     LR is better  \n",
       "2               18.592658  lasso is better  \n",
       "3               22.455461  lasso is better  \n",
       "4               61.083490     LR is better  \n",
       "5               30.181067     LR is better  \n",
       "6               47.563680     LR is better  \n",
       "7               90.054511     LR is better  \n",
       "8               28.249665  lasso is better  \n",
       "9               35.975271  lasso is better  \n",
       "10              92.951613  lasso is better  \n",
       "11              35.009570     LR is better  \n",
       "12              75.569000  lasso is better  \n",
       "13              53.357884  lasso is better  "
      ]
     },
     "execution_count": 59,
     "metadata": {},
     "output_type": "execute_result"
    }
   ],
   "source": [
    "TestingData['Ridge predicted score']=y_pred_ridge\n",
    "TestingData_ = TestingData.copy()\n",
    "TestingData_['Comparison']=comparison\n",
    "\n",
    "TestingData_"
   ]
  },
  {
   "cell_type": "code",
   "execution_count": 60,
   "id": "f5288b47",
   "metadata": {},
   "outputs": [
    {
     "data": {
      "image/png": "[encoded data removed]",
      "text/plain": [
       "<Figure size 1224x576 with 1 Axes>"
      ]
     },
     "metadata": {
      "needs_background": "light"
     },
     "output_type": "display_data"
    }
   ],
   "source": [
    "TestingData.plot.bar(figsize=(17, 8))\n",
    "plt.ylabel(\"Score\")\n",
    "plt.xlabel(\"Test sample\")\n",
    "plt.show()"
   ]
  },
  {
   "cell_type": "code",
   "execution_count": 39,
   "id": "7b7f064f",
   "metadata": {},
   "outputs": [],
   "source": [
    "# X_test = scalerX.inverse_transform(X_test)\n",
    "# X_train = scalerX.inverse_transform(X_train)\n",
    "\n",
    "# y_train = scalerY.inverse_transform(y_train)"
   ]
  },
  {
   "cell_type": "code",
   "execution_count": 40,
   "id": "acac7212",
   "metadata": {},
   "outputs": [],
   "source": [
    "# change to Ridge stuff\n",
    "# y_plot_pred_lin = lm.predict(X_plot)\n",
    "# y_plot_pred_lasso = lasso_reg.predict(X_plot)\n",
    "\n",
    "# X_plot = scalerX.inverse_transform(X_plot)\n",
    "# y_plot_pred_lin = scalerY.inverse_transform(y_plot_pred_lin)\n",
    "# y_plot_pred_lasso = scalerY.inverse_transform(y_plot_pred_lasso.reshape(-1,1))"
   ]
  },
  {
   "cell_type": "code",
   "execution_count": 41,
   "id": "1504fac8",
   "metadata": {},
   "outputs": [
    {
     "data": {
      "image/png": "[encoded data removed]",
      "text/plain": [
       "<Figure size 432x288 with 1 Axes>"
      ]
     },
     "metadata": {
      "needs_background": "light"
     },
     "output_type": "display_data"
    }
   ],
   "source": [
    "# change to Ridge stuff\n",
    "\n",
    "# plt.scatter(X_train, y_train)\n",
    "# plt.plot(X_plot,y_plot_pred_lin, \"r\")\n",
    "# plt.plot(X_plot,y_plot_pred_lasso, \"green\")\n",
    "# plt.scatter(X_test, y_test)\n",
    "\n",
    "# _ = plt.ylabel(\"Score (%)\")\n",
    "# _ = plt.xlabel(\"Hours spent studying\")"
   ]
  },
  {
   "cell_type": "markdown",
   "id": "126f02ea",
   "metadata": {},
   "source": [
    "# Combining regression models"
   ]
  },
  {
   "cell_type": "code",
   "execution_count": 62,
   "id": "40f416c3",
   "metadata": {},
   "outputs": [],
   "source": [
    "X = df[\"Hours\"].values\n",
    "y = df[\"Scores\"].values\n",
    "\n",
    "scalerX = StandardScaler()\n",
    "scalerY = StandardScaler()\n",
    "\n",
    "X = np.array(X).reshape(-1,1)\n",
    "y = np.array(y).reshape(-1,1)\n",
    "\n",
    "X = scalerX.fit_transform(X)\n",
    "y = scalerY.fit_transform(y)\n",
    "\n",
    "X_train = X[train_indices]\n",
    "X_test = X[test_indices]\n",
    "y_train = y[train_indices]\n",
    "y_test = y[test_indices]"
   ]
  },
  {
   "cell_type": "code",
   "execution_count": 63,
   "id": "1b3b546f",
   "metadata": {},
   "outputs": [],
   "source": [
    "er = VotingRegressor([\n",
    "    ('linR', LinearRegression()), \n",
    "    ('lassR', Lasso(alpha = lasso_alpha)), \n",
    "    ('ridgR', Ridge(alpha = ridge_alpha))], weights=[1, 1, 1])"
   ]
  },
  {
   "cell_type": "code",
   "execution_count": 64,
   "id": "2665afe1",
   "metadata": {},
   "outputs": [
    {
     "data": {
      "text/plain": [
       "VotingRegressor(estimators=[('linR', LinearRegression()),\n",
       "                            ('lassR', Lasso(alpha=0.09309999999999949)),\n",
       "                            ('ridgR', Ridge(alpha=0.8661999999999928))],\n",
       "                weights=[1, 1, 1])"
      ]
     },
     "execution_count": 64,
     "metadata": {},
     "output_type": "execute_result"
    }
   ],
   "source": [
    "er.fit(X_train, y_train.flatten())"
   ]
  },
  {
   "cell_type": "code",
   "execution_count": 65,
   "id": "cd581ca9",
   "metadata": {},
   "outputs": [
    {
     "data": {
      "text/html": [
       "<div>\n",
       "<style scoped>\n",
       "    .dataframe tbody tr th:only-of-type {\n",
       "        vertical-align: middle;\n",
       "    }\n",
       "\n",
       "    .dataframe tbody tr th {\n",
       "        vertical-align: top;\n",
       "    }\n",
       "\n",
       "    .dataframe thead th {\n",
       "        text-align: right;\n",
       "    }\n",
       "</style>\n",
       "<table border=\"1\" class=\"dataframe\">\n",
       "  <thead>\n",
       "    <tr style=\"text-align: right;\">\n",
       "      <th></th>\n",
       "      <th>LR</th>\n",
       "      <th>LASSO</th>\n",
       "      <th>ridge</th>\n",
       "      <th>LR + LASSO + Ridge</th>\n",
       "    </tr>\n",
       "  </thead>\n",
       "  <tbody>\n",
       "    <tr>\n",
       "      <th>MSE</th>\n",
       "      <td>0.074652</td>\n",
       "      <td>0.054392</td>\n",
       "      <td>0.055754</td>\n",
       "      <td>0.058620</td>\n",
       "    </tr>\n",
       "    <tr>\n",
       "      <th>MAE</th>\n",
       "      <td>0.232428</td>\n",
       "      <td>0.201915</td>\n",
       "      <td>0.207422</td>\n",
       "      <td>0.213709</td>\n",
       "    </tr>\n",
       "    <tr>\n",
       "      <th>R²</th>\n",
       "      <td>0.929061</td>\n",
       "      <td>0.948314</td>\n",
       "      <td>0.947019</td>\n",
       "      <td>0.944296</td>\n",
       "    </tr>\n",
       "  </tbody>\n",
       "</table>\n",
       "</div>"
      ],
      "text/plain": [
       "           LR     LASSO     ridge  LR + LASSO + Ridge\n",
       "MSE  0.074652  0.054392  0.055754            0.058620\n",
       "MAE  0.232428  0.201915  0.207422            0.213709\n",
       "R²   0.929061  0.948314  0.947019            0.944296"
      ]
     },
     "execution_count": 65,
     "metadata": {},
     "output_type": "execute_result"
    }
   ],
   "source": [
    "y_pred_er = er.predict(X_test)\n",
    "MSE_er = mean_squared_error(y_test, y_pred_er)\n",
    "MAE_er = mean_absolute_error(y_test, y_pred_er)\n",
    "R2_er = r2_score(y_test, y_pred_er)\n",
    "\n",
    "evalmetrics[\"LR + LASSO + Ridge\"] = [MSE_er, MAE_er, R2_er]\n",
    "\n",
    "evalmetrics"
   ]
  },
  {
   "cell_type": "code",
   "execution_count": 66,
   "id": "8275da4e",
   "metadata": {},
   "outputs": [],
   "source": [
    "# y_pred_er = scalerY.inverse_transform(y_pred_er.reshape(-1,1))\n",
    "# y_test = scalerY.inverse_transform(y_test)"
   ]
  },
  {
   "cell_type": "code",
   "execution_count": 67,
   "id": "a2b430a6",
   "metadata": {},
   "outputs": [],
   "source": [
    "# TestingData2=pd.DataFrame(data=y_test, columns=[\"actual score\"])\n",
    "# TestingData2['LR predicted score']=y_pred_lin\n",
    "# TestingData2['Combined models predicted score']=y_pred_er\n",
    "\n",
    "# TestingData2.plot.bar(figsize=(17, 8))\n",
    "# plt.ylabel(\"Score\")\n",
    "# plt.xlabel(\"Test sample\")\n",
    "# plt.show()"
   ]
  },
  {
   "cell_type": "markdown",
   "id": "2eed11cb",
   "metadata": {},
   "source": [
    "### GridSearch for combining LR + LASSO + Rigde"
   ]
  },
  {
   "cell_type": "code",
   "execution_count": 148,
   "id": "fcd55248",
   "metadata": {},
   "outputs": [],
   "source": [
    "X = df[\"Hours\"].values\n",
    "y = df[\"Scores\"].values\n",
    "\n",
    "scalerX = StandardScaler()\n",
    "scalerY = StandardScaler()\n",
    "\n",
    "X = np.array(X).reshape(-1,1)\n",
    "y = np.array(y).reshape(-1,1)\n",
    "\n",
    "X = scalerX.fit_transform(X)\n",
    "y = scalerY.fit_transform(y)\n",
    "\n",
    "X_train = X[train_indices]\n",
    "X_test = X[test_indices]\n",
    "y_train = y[train_indices]\n",
    "y_test = y[test_indices]"
   ]
  },
  {
   "cell_type": "code",
   "execution_count": 155,
   "id": "ca6c0917",
   "metadata": {},
   "outputs": [],
   "source": [
    "search_results_er = {}\n",
    "try_idx = 1"
   ]
  },
  {
   "cell_type": "code",
   "execution_count": 159,
   "id": "2cbed815",
   "metadata": {},
   "outputs": [
    {
     "name": "stdout",
     "output_type": "stream",
     "text": [
      "try  1  :  {'weight': {'weights': [1, 39.900000000000006]}, 'Best CV score': 0.8770848118007667}\n",
      "try  2  :  {'weight': {'weights': [1, 79.90000000000057]}, 'Best CV score': 0.8770960114481727}\n",
      "try  3  :  {'weight': {'weights': [1, 119.89999999999768]}, 'Best CV score': 0.8770997985056643}\n",
      "try  4  :  {'weight': {'weights': [1, 129.89999999999938]}, 'Best CV score': 0.8771003835550868}\n"
     ]
    }
   ],
   "source": [
    "er = VotingRegressor([\n",
    "    ('linR', LinearRegression()), \n",
    "    ('lassR', Lasso(alpha = lasso_alpha)), \n",
    "    ('ridgR', Ridge(alpha = ridge_alpha))])\n",
    "\n",
    "params = {'weights':[[1, x, 1] for x in np.arange(0.1,40,0.1)]} # 0.1,40,0.1\n",
    "grid_Search = GridSearchCV(param_grid = params, cv = 5, scoring='r2', estimator=er)\n",
    "\n",
    "search_results = grid_Search.fit(X_train,y_train.ravel())\n",
    "search_results_er[str(try_idx)] ={\n",
    "    \"weight\": search_results.best_params_['weights'],\n",
    "    \"Best CV score\": search_results.best_score_\n",
    "}\n",
    "\n",
    "try_idx+=1\n",
    "for try_idx_ in search_results_er:\n",
    "    print(\"try \", try_idx_, \" : \", search_results_er[try_idx_])"
   ]
  },
  {
   "cell_type": "code",
   "execution_count": 160,
   "id": "c655d61e",
   "metadata": {},
   "outputs": [
    {
     "data": {
      "text/html": [
       "<div>\n",
       "<style scoped>\n",
       "    .dataframe tbody tr th:only-of-type {\n",
       "        vertical-align: middle;\n",
       "    }\n",
       "\n",
       "    .dataframe tbody tr th {\n",
       "        vertical-align: top;\n",
       "    }\n",
       "\n",
       "    .dataframe thead th {\n",
       "        text-align: right;\n",
       "    }\n",
       "</style>\n",
       "<table border=\"1\" class=\"dataframe\">\n",
       "  <thead>\n",
       "    <tr style=\"text-align: right;\">\n",
       "      <th></th>\n",
       "      <th>LR</th>\n",
       "      <th>LASSO</th>\n",
       "      <th>ridge</th>\n",
       "      <th>LR + LASSO + Ridge</th>\n",
       "      <th>LASSO + Ridge</th>\n",
       "    </tr>\n",
       "  </thead>\n",
       "  <tbody>\n",
       "    <tr>\n",
       "      <th>MSE</th>\n",
       "      <td>0.074652</td>\n",
       "      <td>0.054392</td>\n",
       "      <td>0.055754</td>\n",
       "      <td>0.058620</td>\n",
       "      <td>0.055754</td>\n",
       "    </tr>\n",
       "    <tr>\n",
       "      <th>MAE</th>\n",
       "      <td>0.232428</td>\n",
       "      <td>0.201915</td>\n",
       "      <td>0.207422</td>\n",
       "      <td>0.213709</td>\n",
       "      <td>0.207422</td>\n",
       "    </tr>\n",
       "    <tr>\n",
       "      <th>R²</th>\n",
       "      <td>0.929061</td>\n",
       "      <td>0.948314</td>\n",
       "      <td>0.947019</td>\n",
       "      <td>0.944296</td>\n",
       "      <td>0.947019</td>\n",
       "    </tr>\n",
       "  </tbody>\n",
       "</table>\n",
       "</div>"
      ],
      "text/plain": [
       "           LR     LASSO     ridge  LR + LASSO + Ridge  LASSO + Ridge\n",
       "MSE  0.074652  0.054392  0.055754            0.058620       0.055754\n",
       "MAE  0.232428  0.201915  0.207422            0.213709       0.207422\n",
       "R²   0.929061  0.948314  0.947019            0.944296       0.947019"
      ]
     },
     "execution_count": 160,
     "metadata": {},
     "output_type": "execute_result"
    }
   ],
   "source": [
    "new_weights = search_results.best_params_['weights']\n",
    "er = VotingRegressor([\n",
    "    ('linR', LinearRegression()), \n",
    "    ('lassR', Lasso(alpha = lasso_alpha)), \n",
    "    ('ridgR', Ridge(alpha = ridge_alpha))], weights=new_weights)\n",
    "\n",
    "er.fit(X_train, y_train.flatten())\n",
    "\n",
    "y_pred_er = er.predict(X_test)\n",
    "MSE_er = mean_squared_error(y_test, y_pred_er)\n",
    "MAE_er = mean_absolute_error(y_test, y_pred_er)\n",
    "R2_er = r2_score(y_test, y_pred_er)\n",
    "\n",
    "evalmetrics[\"LR + LASSO + Ridge\"] = [MSE_er, MAE_er, R2_er]\n",
    "\n",
    "evalmetrics"
   ]
  },
  {
   "cell_type": "code",
   "execution_count": 124,
   "id": "ea01be0d",
   "metadata": {},
   "outputs": [],
   "source": [
    "# y_pred_er = scalerY.inverse_transform(y_pred_er.reshape(-1,1))\n",
    "# y_test = scalerY.inverse_transform(y_test)"
   ]
  },
  {
   "cell_type": "code",
   "execution_count": 125,
   "id": "308389e6",
   "metadata": {},
   "outputs": [],
   "source": [
    "# comparison = []\n",
    "# diff_lin = np.abs(y_test - y_pred_lin)\n",
    "# diff_er = np.abs(y_test - y_pred_er)\n",
    "# diff_lasso = np.abs(y_test - y_pred_lasso)\n",
    "# for i in range(len(y_test)):\n",
    "#     if diff_lin[i] < diff_er[i] and diff_lin[i] < diff_lasso[i]:\n",
    "#         comparison.append(\"LR is better\")\n",
    "#     elif diff_er[i] < diff_lin[i] and diff_er[i] < diff_lasso[i]:\n",
    "#         comparison.append(\"er is better\")\n",
    "#     else:\n",
    "#         comparison.append(\"lasso is better\")"
   ]
  },
  {
   "cell_type": "code",
   "execution_count": 126,
   "id": "6b7845d5",
   "metadata": {},
   "outputs": [
    {
     "data": {
      "text/html": [
       "<div>\n",
       "<style scoped>\n",
       "    .dataframe tbody tr th:only-of-type {\n",
       "        vertical-align: middle;\n",
       "    }\n",
       "\n",
       "    .dataframe tbody tr th {\n",
       "        vertical-align: top;\n",
       "    }\n",
       "\n",
       "    .dataframe thead th {\n",
       "        text-align: right;\n",
       "    }\n",
       "</style>\n",
       "<table border=\"1\" class=\"dataframe\">\n",
       "  <thead>\n",
       "    <tr style=\"text-align: right;\">\n",
       "      <th></th>\n",
       "      <th>actual score</th>\n",
       "      <th>LR predicted score</th>\n",
       "      <th>LASSO predicted score</th>\n",
       "      <th>Ridge predicted score</th>\n",
       "      <th>ER predicted score</th>\n",
       "      <th>Comparison</th>\n",
       "    </tr>\n",
       "  </thead>\n",
       "  <tbody>\n",
       "    <tr>\n",
       "      <th>0</th>\n",
       "      <td>75.0</td>\n",
       "      <td>89.688170</td>\n",
       "      <td>85.401419</td>\n",
       "      <td>86.191708</td>\n",
       "      <td>85.407501</td>\n",
       "      <td>lasso is better</td>\n",
       "    </tr>\n",
       "    <tr>\n",
       "      <th>1</th>\n",
       "      <td>85.0</td>\n",
       "      <td>81.202839</td>\n",
       "      <td>77.847530</td>\n",
       "      <td>78.466102</td>\n",
       "      <td>77.852291</td>\n",
       "      <td>LR is better</td>\n",
       "    </tr>\n",
       "    <tr>\n",
       "      <th>2</th>\n",
       "      <td>20.0</td>\n",
       "      <td>15.441526</td>\n",
       "      <td>19.304894</td>\n",
       "      <td>18.592658</td>\n",
       "      <td>19.299412</td>\n",
       "      <td>lasso is better</td>\n",
       "    </tr>\n",
       "    <tr>\n",
       "      <th>3</th>\n",
       "      <td>24.0</td>\n",
       "      <td>19.684191</td>\n",
       "      <td>23.081838</td>\n",
       "      <td>22.455461</td>\n",
       "      <td>23.077017</td>\n",
       "      <td>lasso is better</td>\n",
       "    </tr>\n",
       "    <tr>\n",
       "      <th>4</th>\n",
       "      <td>62.0</td>\n",
       "      <td>62.110845</td>\n",
       "      <td>60.851281</td>\n",
       "      <td>61.083490</td>\n",
       "      <td>60.853068</td>\n",
       "      <td>LR is better</td>\n",
       "    </tr>\n",
       "    <tr>\n",
       "      <th>5</th>\n",
       "      <td>25.0</td>\n",
       "      <td>28.169522</td>\n",
       "      <td>30.635727</td>\n",
       "      <td>30.181067</td>\n",
       "      <td>30.632228</td>\n",
       "      <td>LR is better</td>\n",
       "    </tr>\n",
       "    <tr>\n",
       "      <th>6</th>\n",
       "      <td>41.0</td>\n",
       "      <td>47.261516</td>\n",
       "      <td>47.631976</td>\n",
       "      <td>47.563680</td>\n",
       "      <td>47.631450</td>\n",
       "      <td>LR is better</td>\n",
       "    </tr>\n",
       "    <tr>\n",
       "      <th>7</th>\n",
       "      <td>95.0</td>\n",
       "      <td>93.930836</td>\n",
       "      <td>89.178363</td>\n",
       "      <td>90.054511</td>\n",
       "      <td>89.185107</td>\n",
       "      <td>LR is better</td>\n",
       "    </tr>\n",
       "    <tr>\n",
       "      <th>8</th>\n",
       "      <td>30.0</td>\n",
       "      <td>26.048189</td>\n",
       "      <td>28.747255</td>\n",
       "      <td>28.249665</td>\n",
       "      <td>28.743425</td>\n",
       "      <td>lasso is better</td>\n",
       "    </tr>\n",
       "    <tr>\n",
       "      <th>9</th>\n",
       "      <td>42.0</td>\n",
       "      <td>34.533520</td>\n",
       "      <td>36.301143</td>\n",
       "      <td>35.975271</td>\n",
       "      <td>36.298635</td>\n",
       "      <td>lasso is better</td>\n",
       "    </tr>\n",
       "    <tr>\n",
       "      <th>10</th>\n",
       "      <td>88.0</td>\n",
       "      <td>97.112835</td>\n",
       "      <td>92.011072</td>\n",
       "      <td>92.951613</td>\n",
       "      <td>92.018310</td>\n",
       "      <td>lasso is better</td>\n",
       "    </tr>\n",
       "    <tr>\n",
       "      <th>11</th>\n",
       "      <td>27.0</td>\n",
       "      <td>33.472854</td>\n",
       "      <td>35.356907</td>\n",
       "      <td>35.009570</td>\n",
       "      <td>35.354234</td>\n",
       "      <td>LR is better</td>\n",
       "    </tr>\n",
       "    <tr>\n",
       "      <th>12</th>\n",
       "      <td>69.0</td>\n",
       "      <td>78.020840</td>\n",
       "      <td>75.014822</td>\n",
       "      <td>75.569000</td>\n",
       "      <td>75.019087</td>\n",
       "      <td>lasso is better</td>\n",
       "    </tr>\n",
       "    <tr>\n",
       "      <th>13</th>\n",
       "      <td>47.0</td>\n",
       "      <td>53.625514</td>\n",
       "      <td>53.297393</td>\n",
       "      <td>53.357884</td>\n",
       "      <td>53.297858</td>\n",
       "      <td>lasso is better</td>\n",
       "    </tr>\n",
       "  </tbody>\n",
       "</table>\n",
       "</div>"
      ],
      "text/plain": [
       "    actual score  LR predicted score  LASSO predicted score  \\\n",
       "0           75.0           89.688170              85.401419   \n",
       "1           85.0           81.202839              77.847530   \n",
       "2           20.0           15.441526              19.304894   \n",
       "3           24.0           19.684191              23.081838   \n",
       "4           62.0           62.110845              60.851281   \n",
       "5           25.0           28.169522              30.635727   \n",
       "6           41.0           47.261516              47.631976   \n",
       "7           95.0           93.930836              89.178363   \n",
       "8           30.0           26.048189              28.747255   \n",
       "9           42.0           34.533520              36.301143   \n",
       "10          88.0           97.112835              92.011072   \n",
       "11          27.0           33.472854              35.356907   \n",
       "12          69.0           78.020840              75.014822   \n",
       "13          47.0           53.625514              53.297393   \n",
       "\n",
       "    Ridge predicted score  ER predicted score       Comparison  \n",
       "0               86.191708           85.407501  lasso is better  \n",
       "1               78.466102           77.852291     LR is better  \n",
       "2               18.592658           19.299412  lasso is better  \n",
       "3               22.455461           23.077017  lasso is better  \n",
       "4               61.083490           60.853068     LR is better  \n",
       "5               30.181067           30.632228     LR is better  \n",
       "6               47.563680           47.631450     LR is better  \n",
       "7               90.054511           89.185107     LR is better  \n",
       "8               28.249665           28.743425  lasso is better  \n",
       "9               35.975271           36.298635  lasso is better  \n",
       "10              92.951613           92.018310  lasso is better  \n",
       "11              35.009570           35.354234     LR is better  \n",
       "12              75.569000           75.019087  lasso is better  \n",
       "13              53.357884           53.297858  lasso is better  "
      ]
     },
     "execution_count": 126,
     "metadata": {},
     "output_type": "execute_result"
    }
   ],
   "source": [
    "# TestingData['ER predicted score']=y_pred_er\n",
    "# TestingData_ = TestingData.copy()\n",
    "# TestingData_['Comparison']=comparison\n",
    "\n",
    "# TestingData_"
   ]
  }
 ],
 "metadata": {
  "kernelspec": {
   "display_name": "Python 3 (ipykernel)",
   "language": "python",
   "name": "python3"
  },
  "language_info": {
   "codemirror_mode": {
    "name": "ipython",
    "version": 3
   },
   "file_extension": ".py",
   "mimetype": "text/x-python",
   "name": "python",
   "nbconvert_exporter": "python",
   "pygments_lexer": "ipython3",
   "version": "3.7.6"
  }
 },
 "nbformat": 4,
 "nbformat_minor": 5
}
