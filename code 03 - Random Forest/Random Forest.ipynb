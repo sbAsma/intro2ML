{
 "cells": [
  {
   "cell_type": "markdown",
   "id": "6507f27e",
   "metadata": {},
   "source": [
    "# 1. Importing libraries"
   ]
  },
  {
   "cell_type": "code",
   "execution_count": 1,
   "id": "65202d35",
   "metadata": {},
   "outputs": [],
   "source": [
    "import numpy as np\n",
    "import pandas as pd\n",
    "from sklearn.preprocessing import MinMaxScaler\n",
    "from sklearn.model_selection import train_test_split\n",
    "from sklearn.ensemble import RandomForestClassifier\n",
    "from sklearn.metrics import confusion_matrix, accuracy_score"
   ]
  },
  {
   "cell_type": "markdown",
   "id": "3b410b73",
   "metadata": {},
   "source": [
    "# 2. Loading the dataset"
   ]
  },
  {
   "cell_type": "code",
   "execution_count": 2,
   "id": "4009f4a5",
   "metadata": {},
   "outputs": [
    {
     "data": {
      "text/html": [
       "<div>\n",
       "<style scoped>\n",
       "    .dataframe tbody tr th:only-of-type {\n",
       "        vertical-align: middle;\n",
       "    }\n",
       "\n",
       "    .dataframe tbody tr th {\n",
       "        vertical-align: top;\n",
       "    }\n",
       "\n",
       "    .dataframe thead th {\n",
       "        text-align: right;\n",
       "    }\n",
       "</style>\n",
       "<table border=\"1\" class=\"dataframe\">\n",
       "  <thead>\n",
       "    <tr style=\"text-align: right;\">\n",
       "      <th></th>\n",
       "      <th>age</th>\n",
       "      <th>sex</th>\n",
       "      <th>cp</th>\n",
       "      <th>trestbps</th>\n",
       "      <th>chol</th>\n",
       "      <th>fbs</th>\n",
       "      <th>restecg</th>\n",
       "      <th>thalach</th>\n",
       "      <th>exang</th>\n",
       "      <th>oldpeak</th>\n",
       "      <th>slope</th>\n",
       "      <th>ca</th>\n",
       "      <th>thal</th>\n",
       "      <th>target</th>\n",
       "    </tr>\n",
       "  </thead>\n",
       "  <tbody>\n",
       "    <tr>\n",
       "      <th>0</th>\n",
       "      <td>52</td>\n",
       "      <td>1</td>\n",
       "      <td>0</td>\n",
       "      <td>125</td>\n",
       "      <td>212</td>\n",
       "      <td>0</td>\n",
       "      <td>1</td>\n",
       "      <td>168</td>\n",
       "      <td>0</td>\n",
       "      <td>1.0</td>\n",
       "      <td>2</td>\n",
       "      <td>2</td>\n",
       "      <td>3</td>\n",
       "      <td>0</td>\n",
       "    </tr>\n",
       "    <tr>\n",
       "      <th>1</th>\n",
       "      <td>53</td>\n",
       "      <td>1</td>\n",
       "      <td>0</td>\n",
       "      <td>140</td>\n",
       "      <td>203</td>\n",
       "      <td>1</td>\n",
       "      <td>0</td>\n",
       "      <td>155</td>\n",
       "      <td>1</td>\n",
       "      <td>3.1</td>\n",
       "      <td>0</td>\n",
       "      <td>0</td>\n",
       "      <td>3</td>\n",
       "      <td>0</td>\n",
       "    </tr>\n",
       "    <tr>\n",
       "      <th>2</th>\n",
       "      <td>70</td>\n",
       "      <td>1</td>\n",
       "      <td>0</td>\n",
       "      <td>145</td>\n",
       "      <td>174</td>\n",
       "      <td>0</td>\n",
       "      <td>1</td>\n",
       "      <td>125</td>\n",
       "      <td>1</td>\n",
       "      <td>2.6</td>\n",
       "      <td>0</td>\n",
       "      <td>0</td>\n",
       "      <td>3</td>\n",
       "      <td>0</td>\n",
       "    </tr>\n",
       "    <tr>\n",
       "      <th>3</th>\n",
       "      <td>61</td>\n",
       "      <td>1</td>\n",
       "      <td>0</td>\n",
       "      <td>148</td>\n",
       "      <td>203</td>\n",
       "      <td>0</td>\n",
       "      <td>1</td>\n",
       "      <td>161</td>\n",
       "      <td>0</td>\n",
       "      <td>0.0</td>\n",
       "      <td>2</td>\n",
       "      <td>1</td>\n",
       "      <td>3</td>\n",
       "      <td>0</td>\n",
       "    </tr>\n",
       "    <tr>\n",
       "      <th>4</th>\n",
       "      <td>62</td>\n",
       "      <td>0</td>\n",
       "      <td>0</td>\n",
       "      <td>138</td>\n",
       "      <td>294</td>\n",
       "      <td>1</td>\n",
       "      <td>1</td>\n",
       "      <td>106</td>\n",
       "      <td>0</td>\n",
       "      <td>1.9</td>\n",
       "      <td>1</td>\n",
       "      <td>3</td>\n",
       "      <td>2</td>\n",
       "      <td>0</td>\n",
       "    </tr>\n",
       "  </tbody>\n",
       "</table>\n",
       "</div>"
      ],
      "text/plain": [
       "   age  sex  cp  trestbps  chol  fbs  restecg  thalach  exang  oldpeak  slope  \\\n",
       "0   52    1   0       125   212    0        1      168      0      1.0      2   \n",
       "1   53    1   0       140   203    1        0      155      1      3.1      0   \n",
       "2   70    1   0       145   174    0        1      125      1      2.6      0   \n",
       "3   61    1   0       148   203    0        1      161      0      0.0      2   \n",
       "4   62    0   0       138   294    1        1      106      0      1.9      1   \n",
       "\n",
       "   ca  thal  target  \n",
       "0   2     3       0  \n",
       "1   0     3       0  \n",
       "2   0     3       0  \n",
       "3   1     3       0  \n",
       "4   3     2       0  "
      ]
     },
     "execution_count": 2,
     "metadata": {},
     "output_type": "execute_result"
    }
   ],
   "source": [
    "df = pd.read_csv(\"dataset/heart.csv\")\n",
    "df.head()"
   ]
  },
  {
   "cell_type": "markdown",
   "id": "c568a252",
   "metadata": {},
   "source": [
    "# 3. Train/test splitting and normalization"
   ]
  },
  {
   "cell_type": "code",
   "execution_count": 3,
   "id": "08e69004",
   "metadata": {},
   "outputs": [],
   "source": [
    "df_columns = list(df.columns)\n",
    "df_columns.remove('target')\n",
    "features = df_columns\n",
    "X = df[features]\n",
    "y = df['target']\n",
    "\n",
    "scaler = MinMaxScaler()\n",
    "\n",
    "X = scaler.fit_transform(X)\n",
    "\n",
    "X_train, X_test, y_train, y_test = train_test_split(X, y, test_size=0.3, random_state=40)"
   ]
  },
  {
   "cell_type": "markdown",
   "id": "37e9df40",
   "metadata": {},
   "source": [
    "# 4. Accuracy report function"
   ]
  },
  {
   "cell_type": "code",
   "execution_count": 4,
   "id": "eed93e9e",
   "metadata": {},
   "outputs": [],
   "source": [
    "def accuracy_report(y_test, y_pred):\n",
    "    cm = confusion_matrix(y_test,y_pred)\n",
    "    acc_report = {}\n",
    "    labels = np.unique(y_test)\n",
    "    AA = 0\n",
    "    for label in labels:\n",
    "        per_class_acc = cm[label,label]/np.sum(cm[label,:]) * 100\n",
    "        acc_report[\"class \" + str(label)] = per_class_acc\n",
    "        AA+=per_class_acc\n",
    "    AA = AA/len(labels)\n",
    "    acc_report[\"OA\"] = accuracy_score(y_test, y_pred)*100\n",
    "    acc_report[\"AA\"] = AA\n",
    "    \n",
    "    return acc_report"
   ]
  },
  {
   "cell_type": "markdown",
   "id": "433cd24b",
   "metadata": {},
   "source": [
    "# 5. Random Forest Classification"
   ]
  },
  {
   "cell_type": "code",
   "execution_count": 5,
   "id": "92079dad",
   "metadata": {},
   "outputs": [
    {
     "name": "stdout",
     "output_type": "stream",
     "text": [
      "class 0  =  100.00  %\n",
      "class 1  =  100.00  %\n",
      "OA  =  100.00  %\n",
      "AA  =  100.00  %\n"
     ]
    }
   ],
   "source": [
    "rf = RandomForestClassifier()\n",
    "rf.fit(X_train, y_train)\n",
    "y_pred = rf.predict(X_test)\n",
    "acc_report = accuracy_report(y_test, y_pred)\n",
    "\n",
    "for key in acc_report:\n",
    "    print(key, \" = \", \"{:.2f}\".format(acc_report[key]), \" %\")"
   ]
  },
  {
   "cell_type": "markdown",
   "id": "a365922a",
   "metadata": {},
   "source": [
    "# 6. Random Forest Classification - average 10 runs"
   ]
  },
  {
   "cell_type": "code",
   "execution_count": 6,
   "id": "57748be7",
   "metadata": {},
   "outputs": [],
   "source": [
    "acc_report_10_runs = []\n",
    "for i in range(10):\n",
    "    rf = RandomForestClassifier()\n",
    "    rf.fit(X_train, y_train)\n",
    "    y_pred = rf.predict(X_test)\n",
    "    acc_report_10_runs.append(accuracy_report(y_test, y_pred))"
   ]
  },
  {
   "cell_type": "code",
   "execution_count": 7,
   "id": "220864a1",
   "metadata": {},
   "outputs": [
    {
     "name": "stdout",
     "output_type": "stream",
     "text": [
      "The average of 10 runs is:\n",
      "class 0  =  100.00  %\n",
      "class 1  =  99.48  %\n",
      "OA  =  99.74  %\n",
      "AA  =  99.74  %\n"
     ]
    }
   ],
   "source": [
    "acc_report2 = {\n",
    "    \"class 0\": 0,\n",
    "    \"class 1\": 0,\n",
    "    \"OA\": 0,\n",
    "    \"AA\": 0,\n",
    "}\n",
    "\n",
    "for acc_report_ in acc_report_10_runs:\n",
    "    acc_report2[\"class 0\"]+=acc_report_[\"class 0\"]\n",
    "    acc_report2[\"class 1\"]+=acc_report_[\"class 1\"]\n",
    "    acc_report2[\"OA\"]+=acc_report_[\"OA\"]\n",
    "    acc_report2[\"AA\"]+=acc_report_[\"AA\"]\n",
    "    \n",
    "acc_report2[\"class 0\"] = acc_report2[\"class 0\"]/10\n",
    "acc_report2[\"class 1\"] = acc_report2[\"class 1\"]/10\n",
    "acc_report2[\"OA\"] = acc_report2[\"OA\"]/10\n",
    "acc_report2[\"AA\"] = acc_report2[\"AA\"]/10\n",
    "\n",
    "print(\"The average of 10 runs is:\")\n",
    "for key in acc_report2:\n",
    "    print(key, \" = \", \"{:.2f}\".format(acc_report2[key]), \" %\")"
   ]
  }
 ],
 "metadata": {
  "kernelspec": {
   "display_name": "Python 3.7 (tensorflow)",
   "language": "python",
   "name": "tensorflow"
  },
  "language_info": {
   "codemirror_mode": {
    "name": "ipython",
    "version": 3
   },
   "file_extension": ".py",
   "mimetype": "text/x-python",
   "name": "python",
   "nbconvert_exporter": "python",
   "pygments_lexer": "ipython3",
   "version": "3.7.6"
  }
 },
 "nbformat": 4,
 "nbformat_minor": 5
}
