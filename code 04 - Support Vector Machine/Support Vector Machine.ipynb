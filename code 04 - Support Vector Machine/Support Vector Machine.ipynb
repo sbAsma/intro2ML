{
 "cells": [
  {
   "cell_type": "markdown",
   "id": "6507f27e",
   "metadata": {},
   "source": [
    "# 1. Importing libraries"
   ]
  },
  {
   "cell_type": "code",
   "execution_count": 1,
   "id": "65202d35",
   "metadata": {},
   "outputs": [],
   "source": [
    "import numpy as np\n",
    "import pandas as pd\n",
    "from sklearn.preprocessing import MinMaxScaler\n",
    "from sklearn.preprocessing import LabelEncoder\n",
    "from sklearn.model_selection import train_test_split\n",
    "from sklearn.svm import SVC\n",
    "from sklearn.model_selection import GridSearchCV\n",
    "from sklearn.metrics import confusion_matrix, accuracy_score, ConfusionMatrixDisplay\n",
    "import matplotlib.pyplot as plt"
   ]
  },
  {
   "cell_type": "markdown",
   "id": "3b410b73",
   "metadata": {},
   "source": [
    "# 2. Loading the dataset"
   ]
  },
  {
   "cell_type": "code",
   "execution_count": 2,
   "id": "4009f4a5",
   "metadata": {},
   "outputs": [
    {
     "data": {
      "text/html": [
       "<div>\n",
       "<style scoped>\n",
       "    .dataframe tbody tr th:only-of-type {\n",
       "        vertical-align: middle;\n",
       "    }\n",
       "\n",
       "    .dataframe tbody tr th {\n",
       "        vertical-align: top;\n",
       "    }\n",
       "\n",
       "    .dataframe thead th {\n",
       "        text-align: right;\n",
       "    }\n",
       "</style>\n",
       "<table border=\"1\" class=\"dataframe\">\n",
       "  <thead>\n",
       "    <tr style=\"text-align: right;\">\n",
       "      <th></th>\n",
       "      <th>id</th>\n",
       "      <th>diagnosis</th>\n",
       "      <th>radius_mean</th>\n",
       "      <th>texture_mean</th>\n",
       "      <th>perimeter_mean</th>\n",
       "      <th>area_mean</th>\n",
       "      <th>smoothness_mean</th>\n",
       "      <th>compactness_mean</th>\n",
       "      <th>concavity_mean</th>\n",
       "      <th>concave points_mean</th>\n",
       "      <th>...</th>\n",
       "      <th>radius_worst</th>\n",
       "      <th>texture_worst</th>\n",
       "      <th>perimeter_worst</th>\n",
       "      <th>area_worst</th>\n",
       "      <th>smoothness_worst</th>\n",
       "      <th>compactness_worst</th>\n",
       "      <th>concavity_worst</th>\n",
       "      <th>concave points_worst</th>\n",
       "      <th>symmetry_worst</th>\n",
       "      <th>fractal_dimension_worst</th>\n",
       "    </tr>\n",
       "  </thead>\n",
       "  <tbody>\n",
       "    <tr>\n",
       "      <th>0</th>\n",
       "      <td>842302</td>\n",
       "      <td>M</td>\n",
       "      <td>17.99</td>\n",
       "      <td>10.38</td>\n",
       "      <td>122.80</td>\n",
       "      <td>1001.0</td>\n",
       "      <td>0.11840</td>\n",
       "      <td>0.27760</td>\n",
       "      <td>0.3001</td>\n",
       "      <td>0.14710</td>\n",
       "      <td>...</td>\n",
       "      <td>25.38</td>\n",
       "      <td>17.33</td>\n",
       "      <td>184.60</td>\n",
       "      <td>2019.0</td>\n",
       "      <td>0.1622</td>\n",
       "      <td>0.6656</td>\n",
       "      <td>0.7119</td>\n",
       "      <td>0.2654</td>\n",
       "      <td>0.4601</td>\n",
       "      <td>0.11890</td>\n",
       "    </tr>\n",
       "    <tr>\n",
       "      <th>1</th>\n",
       "      <td>842517</td>\n",
       "      <td>M</td>\n",
       "      <td>20.57</td>\n",
       "      <td>17.77</td>\n",
       "      <td>132.90</td>\n",
       "      <td>1326.0</td>\n",
       "      <td>0.08474</td>\n",
       "      <td>0.07864</td>\n",
       "      <td>0.0869</td>\n",
       "      <td>0.07017</td>\n",
       "      <td>...</td>\n",
       "      <td>24.99</td>\n",
       "      <td>23.41</td>\n",
       "      <td>158.80</td>\n",
       "      <td>1956.0</td>\n",
       "      <td>0.1238</td>\n",
       "      <td>0.1866</td>\n",
       "      <td>0.2416</td>\n",
       "      <td>0.1860</td>\n",
       "      <td>0.2750</td>\n",
       "      <td>0.08902</td>\n",
       "    </tr>\n",
       "    <tr>\n",
       "      <th>2</th>\n",
       "      <td>84300903</td>\n",
       "      <td>M</td>\n",
       "      <td>19.69</td>\n",
       "      <td>21.25</td>\n",
       "      <td>130.00</td>\n",
       "      <td>1203.0</td>\n",
       "      <td>0.10960</td>\n",
       "      <td>0.15990</td>\n",
       "      <td>0.1974</td>\n",
       "      <td>0.12790</td>\n",
       "      <td>...</td>\n",
       "      <td>23.57</td>\n",
       "      <td>25.53</td>\n",
       "      <td>152.50</td>\n",
       "      <td>1709.0</td>\n",
       "      <td>0.1444</td>\n",
       "      <td>0.4245</td>\n",
       "      <td>0.4504</td>\n",
       "      <td>0.2430</td>\n",
       "      <td>0.3613</td>\n",
       "      <td>0.08758</td>\n",
       "    </tr>\n",
       "    <tr>\n",
       "      <th>3</th>\n",
       "      <td>84348301</td>\n",
       "      <td>M</td>\n",
       "      <td>11.42</td>\n",
       "      <td>20.38</td>\n",
       "      <td>77.58</td>\n",
       "      <td>386.1</td>\n",
       "      <td>0.14250</td>\n",
       "      <td>0.28390</td>\n",
       "      <td>0.2414</td>\n",
       "      <td>0.10520</td>\n",
       "      <td>...</td>\n",
       "      <td>14.91</td>\n",
       "      <td>26.50</td>\n",
       "      <td>98.87</td>\n",
       "      <td>567.7</td>\n",
       "      <td>0.2098</td>\n",
       "      <td>0.8663</td>\n",
       "      <td>0.6869</td>\n",
       "      <td>0.2575</td>\n",
       "      <td>0.6638</td>\n",
       "      <td>0.17300</td>\n",
       "    </tr>\n",
       "    <tr>\n",
       "      <th>4</th>\n",
       "      <td>84358402</td>\n",
       "      <td>M</td>\n",
       "      <td>20.29</td>\n",
       "      <td>14.34</td>\n",
       "      <td>135.10</td>\n",
       "      <td>1297.0</td>\n",
       "      <td>0.10030</td>\n",
       "      <td>0.13280</td>\n",
       "      <td>0.1980</td>\n",
       "      <td>0.10430</td>\n",
       "      <td>...</td>\n",
       "      <td>22.54</td>\n",
       "      <td>16.67</td>\n",
       "      <td>152.20</td>\n",
       "      <td>1575.0</td>\n",
       "      <td>0.1374</td>\n",
       "      <td>0.2050</td>\n",
       "      <td>0.4000</td>\n",
       "      <td>0.1625</td>\n",
       "      <td>0.2364</td>\n",
       "      <td>0.07678</td>\n",
       "    </tr>\n",
       "  </tbody>\n",
       "</table>\n",
       "<p>5 rows × 32 columns</p>\n",
       "</div>"
      ],
      "text/plain": [
       "         id diagnosis  radius_mean  texture_mean  perimeter_mean  area_mean  \\\n",
       "0    842302         M        17.99         10.38          122.80     1001.0   \n",
       "1    842517         M        20.57         17.77          132.90     1326.0   \n",
       "2  84300903         M        19.69         21.25          130.00     1203.0   \n",
       "3  84348301         M        11.42         20.38           77.58      386.1   \n",
       "4  84358402         M        20.29         14.34          135.10     1297.0   \n",
       "\n",
       "   smoothness_mean  compactness_mean  concavity_mean  concave points_mean  \\\n",
       "0          0.11840           0.27760          0.3001              0.14710   \n",
       "1          0.08474           0.07864          0.0869              0.07017   \n",
       "2          0.10960           0.15990          0.1974              0.12790   \n",
       "3          0.14250           0.28390          0.2414              0.10520   \n",
       "4          0.10030           0.13280          0.1980              0.10430   \n",
       "\n",
       "   ...  radius_worst  texture_worst  perimeter_worst  area_worst  \\\n",
       "0  ...         25.38          17.33           184.60      2019.0   \n",
       "1  ...         24.99          23.41           158.80      1956.0   \n",
       "2  ...         23.57          25.53           152.50      1709.0   \n",
       "3  ...         14.91          26.50            98.87       567.7   \n",
       "4  ...         22.54          16.67           152.20      1575.0   \n",
       "\n",
       "   smoothness_worst  compactness_worst  concavity_worst  concave points_worst  \\\n",
       "0            0.1622             0.6656           0.7119                0.2654   \n",
       "1            0.1238             0.1866           0.2416                0.1860   \n",
       "2            0.1444             0.4245           0.4504                0.2430   \n",
       "3            0.2098             0.8663           0.6869                0.2575   \n",
       "4            0.1374             0.2050           0.4000                0.1625   \n",
       "\n",
       "   symmetry_worst  fractal_dimension_worst  \n",
       "0          0.4601                  0.11890  \n",
       "1          0.2750                  0.08902  \n",
       "2          0.3613                  0.08758  \n",
       "3          0.6638                  0.17300  \n",
       "4          0.2364                  0.07678  \n",
       "\n",
       "[5 rows x 32 columns]"
      ]
     },
     "execution_count": 2,
     "metadata": {},
     "output_type": "execute_result"
    }
   ],
   "source": [
    "# link: https://www.kaggle.com/datasets/yasserh/breast-cancer-dataset\n",
    "df = pd.read_csv(\"dataset/breast-cancer.csv\")\n",
    "df.head()"
   ]
  },
  {
   "cell_type": "code",
   "execution_count": 3,
   "id": "c6509275",
   "metadata": {},
   "outputs": [
    {
     "data": {
      "text/plain": [
       "id                         0\n",
       "diagnosis                  0\n",
       "radius_mean                0\n",
       "texture_mean               0\n",
       "perimeter_mean             0\n",
       "area_mean                  0\n",
       "smoothness_mean            0\n",
       "compactness_mean           0\n",
       "concavity_mean             0\n",
       "concave points_mean        0\n",
       "symmetry_mean              0\n",
       "fractal_dimension_mean     0\n",
       "radius_se                  0\n",
       "texture_se                 0\n",
       "perimeter_se               0\n",
       "area_se                    0\n",
       "smoothness_se              0\n",
       "compactness_se             0\n",
       "concavity_se               0\n",
       "concave points_se          0\n",
       "symmetry_se                0\n",
       "fractal_dimension_se       0\n",
       "radius_worst               0\n",
       "texture_worst              0\n",
       "perimeter_worst            0\n",
       "area_worst                 0\n",
       "smoothness_worst           0\n",
       "compactness_worst          0\n",
       "concavity_worst            0\n",
       "concave points_worst       0\n",
       "symmetry_worst             0\n",
       "fractal_dimension_worst    0\n",
       "dtype: int64"
      ]
     },
     "execution_count": 3,
     "metadata": {},
     "output_type": "execute_result"
    }
   ],
   "source": [
    "df.isnull().sum()"
   ]
  },
  {
   "cell_type": "markdown",
   "id": "c568a252",
   "metadata": {},
   "source": [
    "# 3. Train/test splitting and normalization"
   ]
  },
  {
   "cell_type": "code",
   "execution_count": 4,
   "id": "bd4aa409",
   "metadata": {},
   "outputs": [
    {
     "name": "stdout",
     "output_type": "stream",
     "text": [
      "['radius_mean', 'texture_mean', 'perimeter_mean', 'area_mean', 'smoothness_mean', 'compactness_mean', 'concavity_mean', 'concave points_mean', 'symmetry_mean', 'fractal_dimension_mean', 'radius_se', 'texture_se', 'perimeter_se', 'area_se', 'smoothness_se', 'compactness_se', 'concavity_se', 'concave points_se', 'symmetry_se', 'fractal_dimension_se', 'radius_worst', 'texture_worst', 'perimeter_worst', 'area_worst', 'smoothness_worst', 'compactness_worst', 'concavity_worst', 'concave points_worst', 'symmetry_worst', 'fractal_dimension_worst']\n"
     ]
    }
   ],
   "source": [
    "df_columns = list(df.columns)\n",
    "df_columns.remove('diagnosis')\n",
    "df_columns.remove('id')\n",
    "features = df_columns\n",
    "print(features)"
   ]
  },
  {
   "cell_type": "code",
   "execution_count": 5,
   "id": "08e69004",
   "metadata": {},
   "outputs": [],
   "source": [
    "X = df[features]\n",
    "y = df['diagnosis']\n",
    "\n",
    "scaler = MinMaxScaler()\n",
    "X = scaler.fit_transform(X)\n",
    "\n",
    "encoder = LabelEncoder()\n",
    "y = encoder.fit_transform(y)\n",
    "\n",
    "X_train, X_test, y_train, y_test = train_test_split(X, y, test_size=0.3, random_state=40)"
   ]
  },
  {
   "cell_type": "markdown",
   "id": "37e9df40",
   "metadata": {},
   "source": [
    "# 4. Accuracy report function"
   ]
  },
  {
   "cell_type": "code",
   "execution_count": 6,
   "id": "eed93e9e",
   "metadata": {},
   "outputs": [],
   "source": [
    "def accuracy_report(y_test, y_pred):\n",
    "    cm = confusion_matrix(y_test,y_pred)\n",
    "    acc_report = {}\n",
    "    labels = np.unique(y_test)\n",
    "    AA = 0\n",
    "    for label in labels:\n",
    "        per_class_acc = cm[label,label]/np.sum(cm[label,:]) * 100\n",
    "        acc_report[\"class \" + str(label)] = per_class_acc\n",
    "        AA+=per_class_acc\n",
    "    AA = AA/len(labels)\n",
    "    acc_report[\"OA\"] = accuracy_score(y_test, y_pred)*100\n",
    "    acc_report[\"AA\"] = AA\n",
    "    \n",
    "    return acc_report"
   ]
  },
  {
   "cell_type": "markdown",
   "id": "433cd24b",
   "metadata": {},
   "source": [
    "# 5. SVM Classification"
   ]
  },
  {
   "cell_type": "markdown",
   "id": "012c8b84",
   "metadata": {},
   "source": [
    "## 5.1. SVM with Polynomial Kernel"
   ]
  },
  {
   "cell_type": "markdown",
   "id": "dace3dc3",
   "metadata": {},
   "source": [
    "### 5.1.1. Cross-validation Grid Search"
   ]
  },
  {
   "cell_type": "markdown",
   "id": "710f1a18",
   "metadata": {},
   "source": [
    "#### a. Wide parameters search"
   ]
  },
  {
   "cell_type": "code",
   "execution_count": 7,
   "id": "87577116",
   "metadata": {},
   "outputs": [],
   "source": [
    "# defining parameter range\n",
    "param_grid = {'C': [0.1, 1, 10, 100, 1000], \n",
    "              'gamma': [1, 0.1, 0.01, 0.001, 0.0001],\n",
    "              'degree': [1, 2, 4, 8, 16, 32],\n",
    "              'kernel': ['poly']} \n",
    "  \n",
    "grid = GridSearchCV(SVC(), param_grid)\n",
    "  \n",
    "# fitting the model for grid search\n",
    "search_results = grid.fit(X_train, y_train)"
   ]
  },
  {
   "cell_type": "code",
   "execution_count": 8,
   "id": "70ced525",
   "metadata": {},
   "outputs": [
    {
     "name": "stdout",
     "output_type": "stream",
     "text": [
      "Best params {'C': 1, 'degree': 2, 'gamma': 1, 'kernel': 'poly'}\n",
      "Best CV score 97.4873 %\n"
     ]
    }
   ],
   "source": [
    "print(\"Best params\", search_results.best_params_)\n",
    "print(\"Best CV score\", \"{:.4f}\".format(search_results.best_score_*100), \"%\")"
   ]
  },
  {
   "cell_type": "markdown",
   "id": "292948dd",
   "metadata": {},
   "source": [
    "#### b. Refined parameters search"
   ]
  },
  {
   "cell_type": "code",
   "execution_count": 9,
   "id": "4ee00c5c",
   "metadata": {},
   "outputs": [
    {
     "name": "stdout",
     "output_type": "stream",
     "text": [
      "Best params {'C': 1, 'degree': 2, 'gamma': 1.0, 'kernel': 'poly'}\n",
      "Best CV score 97.4873 %\n"
     ]
    }
   ],
   "source": [
    "# defining parameter range\n",
    "param_grid = {'C': np.arange(1,10,1), \n",
    "              'gamma': np.arange(0.1,1.1,0.1),\n",
    "              'degree': [2,3],\n",
    "              'kernel': ['poly']} \n",
    "  \n",
    "grid = GridSearchCV(SVC(), param_grid)\n",
    "  \n",
    "# fitting the model for grid search\n",
    "search_results = grid.fit(X_train, y_train)\n",
    "\n",
    "print(\"Best params\", search_results.best_params_)\n",
    "print(\"Best CV score\", \"{:.4f}\".format(search_results.best_score_*100), \"%\")"
   ]
  },
  {
   "cell_type": "markdown",
   "id": "fddc5943",
   "metadata": {},
   "source": [
    "### 5.1.2. Classification"
   ]
  },
  {
   "cell_type": "code",
   "execution_count": 10,
   "id": "bd4dfbad",
   "metadata": {},
   "outputs": [
    {
     "name": "stdout",
     "output_type": "stream",
     "text": [
      "class 0  =  99.13  %\n",
      "class 1  =  98.21  %\n",
      "OA  =  98.83  %\n",
      "AA  =  98.67  %\n"
     ]
    }
   ],
   "source": [
    "C = search_results.best_params_['C'] \n",
    "gamma = search_results.best_params_['gamma']\n",
    "degree = search_results.best_params_['degree']\n",
    "\n",
    "\n",
    "svm = SVC(kernel='poly', C=C, gamma=gamma, degree=degree)\n",
    "svm.fit(X_train, y_train)\n",
    "y_pred = svm.predict(X_test)\n",
    "acc_report = accuracy_report(y_test, y_pred)\n",
    "\n",
    "for key in acc_report:\n",
    "    print(key, \" = \", \"{:.2f}\".format(acc_report[key]), \" %\")"
   ]
  },
  {
   "cell_type": "code",
   "execution_count": 11,
   "id": "da8e8016",
   "metadata": {},
   "outputs": [
    {
     "data": {
      "image/png": "[encoded data removed]",
      "text/plain": [
       "<Figure size 432x288 with 2 Axes>"
      ]
     },
     "metadata": {
      "needs_background": "light"
     },
     "output_type": "display_data"
    }
   ],
   "source": [
    "cm = confusion_matrix(y_test,y_pred)\n",
    "cm = confusion_matrix(y_test, y_pred, labels=svm.classes_)\n",
    "disp = ConfusionMatrixDisplay(confusion_matrix=cm,display_labels=svm.classes_)\n",
    "disp.plot()\n",
    "plt.title(\"Breast Cancer Classification Confusion Matrix \\n SVM with polynomial kernel\")\n",
    "plt.show()"
   ]
  },
  {
   "cell_type": "markdown",
   "id": "dfe081f3",
   "metadata": {},
   "source": [
    "## 5.2. SVM with RBF Kernel"
   ]
  },
  {
   "cell_type": "markdown",
   "id": "4e745030",
   "metadata": {},
   "source": [
    "### 5.2.1. Cross-validation Grid Search"
   ]
  },
  {
   "cell_type": "markdown",
   "id": "ca0426b1",
   "metadata": {},
   "source": [
    "#### a. Wide parameters search"
   ]
  },
  {
   "cell_type": "code",
   "execution_count": 12,
   "id": "7d825490",
   "metadata": {},
   "outputs": [],
   "source": [
    "# defining parameter range\n",
    "param_grid = {'C': [0.1, 1, 10, 100, 1000], \n",
    "              'gamma': [1, 0.1, 0.01, 0.001, 0.0001],\n",
    "              'kernel': ['rbf']} \n",
    "  \n",
    "grid = GridSearchCV(SVC(), param_grid)\n",
    "  \n",
    "# fitting the model for grid search\n",
    "search_results = grid.fit(X_train, y_train)"
   ]
  },
  {
   "cell_type": "code",
   "execution_count": 13,
   "id": "7d2158b6",
   "metadata": {},
   "outputs": [
    {
     "name": "stdout",
     "output_type": "stream",
     "text": [
      "Best params {'C': 10, 'gamma': 1, 'kernel': 'rbf'}\n",
      "Best CV score 96.9905 %\n"
     ]
    }
   ],
   "source": [
    "print(\"Best params\", search_results.best_params_)\n",
    "print(\"Best CV score\", \"{:.4f}\".format(search_results.best_score_*100), \"%\")"
   ]
  },
  {
   "cell_type": "markdown",
   "id": "a39497ad",
   "metadata": {},
   "source": [
    "#### b. Refined parameters search"
   ]
  },
  {
   "cell_type": "code",
   "execution_count": 14,
   "id": "4cdc8a94",
   "metadata": {},
   "outputs": [],
   "source": [
    "try_idx=0\n",
    "gridsearch_results = []"
   ]
  },
  {
   "cell_type": "code",
   "execution_count": 15,
   "id": "3ebbd050",
   "metadata": {},
   "outputs": [
    {
     "name": "stdout",
     "output_type": "stream",
     "text": [
      "try  0  :\n",
      "   Best params  :  {'C': 12.599999999999998, 'gamma': 0.973, 'kernel': 'rbf'}\n",
      "   Best CV score  :  97.2437%\n",
      "_________________________________________________________________\n"
     ]
    }
   ],
   "source": [
    "# defining parameter range\n",
    "param_grid = {'C': np.arange(12,14,0.1), # (5,100,5) # (10,20,1)\n",
    "              'gamma': np.arange(0.96,0.98,0.001), # (0.1,10,0.1) # (0.8,1,0.01)\n",
    "              'kernel': ['rbf']} \n",
    "  \n",
    "grid = GridSearchCV(SVC(), param_grid)\n",
    "  \n",
    "# fitting the model for grid search\n",
    "search_results = grid.fit(X_train, y_train)\n",
    "\n",
    "gridsearch_results.append({\n",
    "    \"Best params\": search_results.best_params_,\n",
    "    \"Best CV score\": \"{:.4f}\".format(search_results.best_score_*100)+ \"%\",\n",
    "})\n",
    "\n",
    "try_idx+=1\n",
    "\n",
    "for idx in range(try_idx):\n",
    "    print(\"try \", idx, \" :\")\n",
    "    for elt in gridsearch_results[idx]:\n",
    "        print(\"  \", elt, \" : \", gridsearch_results[idx][elt])\n",
    "    print(\"_________________________________________________________________\")"
   ]
  },
  {
   "cell_type": "markdown",
   "id": "2b76cf92",
   "metadata": {},
   "source": [
    "### 5.2.2. Classification"
   ]
  },
  {
   "cell_type": "code",
   "execution_count": 16,
   "id": "92079dad",
   "metadata": {},
   "outputs": [
    {
     "name": "stdout",
     "output_type": "stream",
     "text": [
      "class 0  =  99.13  %\n",
      "class 1  =  98.21  %\n",
      "OA  =  98.83  %\n",
      "AA  =  98.67  %\n"
     ]
    }
   ],
   "source": [
    "C = search_results.best_params_['C'] \n",
    "gamma = search_results.best_params_['gamma']\n",
    "\n",
    "svm = SVC(kernel='rbf', C=C, gamma=gamma)\n",
    "svm.fit(X_train, y_train)\n",
    "y_pred = svm.predict(X_test)\n",
    "acc_report = accuracy_report(y_test, y_pred)\n",
    "\n",
    "for key in acc_report:\n",
    "    print(key, \" = \", \"{:.2f}\".format(acc_report[key]), \" %\")"
   ]
  },
  {
   "cell_type": "code",
   "execution_count": 17,
   "id": "e6921638",
   "metadata": {},
   "outputs": [
    {
     "data": {
      "image/png": "[encoded data removed]",
      "text/plain": [
       "<Figure size 432x288 with 2 Axes>"
      ]
     },
     "metadata": {
      "needs_background": "light"
     },
     "output_type": "display_data"
    }
   ],
   "source": [
    "cm = confusion_matrix(y_test,y_pred)\n",
    "cm = confusion_matrix(y_test, y_pred, labels=svm.classes_)\n",
    "disp = ConfusionMatrixDisplay(confusion_matrix=cm,display_labels=svm.classes_)\n",
    "disp.plot()\n",
    "plt.title(\"Breast Cancer Classification Confusion Matrix \\n SVM with RBF kernel\")\n",
    "plt.show()"
   ]
  }
 ],
 "metadata": {
  "kernelspec": {
   "display_name": "Python 3.7 (tensorflow)",
   "language": "python",
   "name": "tensorflow"
  },
  "language_info": {
   "codemirror_mode": {
    "name": "ipython",
    "version": 3
   },
   "file_extension": ".py",
   "mimetype": "text/x-python",
   "name": "python",
   "nbconvert_exporter": "python",
   "pygments_lexer": "ipython3",
   "version": "3.7.6"
  }
 },
 "nbformat": 4,
 "nbformat_minor": 5
}
