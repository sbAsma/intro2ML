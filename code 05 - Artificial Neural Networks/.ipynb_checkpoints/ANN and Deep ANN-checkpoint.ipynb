{
 "cells": [
  {
   "cell_type": "markdown",
   "id": "6507f27e",
   "metadata": {},
   "source": [
    "# 1. Importing libraries"
   ]
  },
  {
   "cell_type": "code",
   "execution_count": 1,
   "id": "65202d35",
   "metadata": {},
   "outputs": [],
   "source": [
    "import numpy as np\n",
    "import pandas as pd\n",
    "from sklearn.preprocessing import MinMaxScaler\n",
    "from sklearn.preprocessing import LabelEncoder\n",
    "from sklearn.model_selection import train_test_split\n",
    "\n",
    "import keras\n",
    "from keras.models import Sequential\n",
    "from keras.layers import Dense\n",
    "\n",
    "from sklearn.metrics import confusion_matrix, accuracy_score, ConfusionMatrixDisplay\n",
    "import matplotlib.pyplot as plt"
   ]
  },
  {
   "cell_type": "code",
   "execution_count": 2,
   "id": "f3d7fc5d",
   "metadata": {},
   "outputs": [],
   "source": [
    "data_path = \"\"\n",
    "# maybe remember to install tensorflow with the version I have here"
   ]
  },
  {
   "cell_type": "markdown",
   "id": "3b410b73",
   "metadata": {},
   "source": [
    "# 2. Loading the dataset"
   ]
  },
  {
   "cell_type": "code",
   "execution_count": 3,
   "id": "4009f4a5",
   "metadata": {},
   "outputs": [
    {
     "data": {
      "text/html": [
       "<div>\n",
       "<style scoped>\n",
       "    .dataframe tbody tr th:only-of-type {\n",
       "        vertical-align: middle;\n",
       "    }\n",
       "\n",
       "    .dataframe tbody tr th {\n",
       "        vertical-align: top;\n",
       "    }\n",
       "\n",
       "    .dataframe thead th {\n",
       "        text-align: right;\n",
       "    }\n",
       "</style>\n",
       "<table border=\"1\" class=\"dataframe\">\n",
       "  <thead>\n",
       "    <tr style=\"text-align: right;\">\n",
       "      <th></th>\n",
       "      <th>Area</th>\n",
       "      <th>Perimeter</th>\n",
       "      <th>MajorAxisLength</th>\n",
       "      <th>MinorAxisLength</th>\n",
       "      <th>AspectRation</th>\n",
       "      <th>Eccentricity</th>\n",
       "      <th>ConvexArea</th>\n",
       "      <th>EquivDiameter</th>\n",
       "      <th>Extent</th>\n",
       "      <th>Solidity</th>\n",
       "      <th>roundness</th>\n",
       "      <th>Compactness</th>\n",
       "      <th>ShapeFactor1</th>\n",
       "      <th>ShapeFactor2</th>\n",
       "      <th>ShapeFactor3</th>\n",
       "      <th>ShapeFactor4</th>\n",
       "      <th>Class</th>\n",
       "    </tr>\n",
       "  </thead>\n",
       "  <tbody>\n",
       "    <tr>\n",
       "      <th>0</th>\n",
       "      <td>28395</td>\n",
       "      <td>610.291</td>\n",
       "      <td>208.178117</td>\n",
       "      <td>173.888747</td>\n",
       "      <td>1.197191</td>\n",
       "      <td>0.549812</td>\n",
       "      <td>28715</td>\n",
       "      <td>190.141097</td>\n",
       "      <td>0.763923</td>\n",
       "      <td>0.988856</td>\n",
       "      <td>0.958027</td>\n",
       "      <td>0.913358</td>\n",
       "      <td>0.007332</td>\n",
       "      <td>0.003147</td>\n",
       "      <td>0.834222</td>\n",
       "      <td>0.998724</td>\n",
       "      <td>SEKER</td>\n",
       "    </tr>\n",
       "    <tr>\n",
       "      <th>1</th>\n",
       "      <td>28734</td>\n",
       "      <td>638.018</td>\n",
       "      <td>200.524796</td>\n",
       "      <td>182.734419</td>\n",
       "      <td>1.097356</td>\n",
       "      <td>0.411785</td>\n",
       "      <td>29172</td>\n",
       "      <td>191.272750</td>\n",
       "      <td>0.783968</td>\n",
       "      <td>0.984986</td>\n",
       "      <td>0.887034</td>\n",
       "      <td>0.953861</td>\n",
       "      <td>0.006979</td>\n",
       "      <td>0.003564</td>\n",
       "      <td>0.909851</td>\n",
       "      <td>0.998430</td>\n",
       "      <td>SEKER</td>\n",
       "    </tr>\n",
       "    <tr>\n",
       "      <th>2</th>\n",
       "      <td>29380</td>\n",
       "      <td>624.110</td>\n",
       "      <td>212.826130</td>\n",
       "      <td>175.931143</td>\n",
       "      <td>1.209713</td>\n",
       "      <td>0.562727</td>\n",
       "      <td>29690</td>\n",
       "      <td>193.410904</td>\n",
       "      <td>0.778113</td>\n",
       "      <td>0.989559</td>\n",
       "      <td>0.947849</td>\n",
       "      <td>0.908774</td>\n",
       "      <td>0.007244</td>\n",
       "      <td>0.003048</td>\n",
       "      <td>0.825871</td>\n",
       "      <td>0.999066</td>\n",
       "      <td>SEKER</td>\n",
       "    </tr>\n",
       "    <tr>\n",
       "      <th>3</th>\n",
       "      <td>30008</td>\n",
       "      <td>645.884</td>\n",
       "      <td>210.557999</td>\n",
       "      <td>182.516516</td>\n",
       "      <td>1.153638</td>\n",
       "      <td>0.498616</td>\n",
       "      <td>30724</td>\n",
       "      <td>195.467062</td>\n",
       "      <td>0.782681</td>\n",
       "      <td>0.976696</td>\n",
       "      <td>0.903936</td>\n",
       "      <td>0.928329</td>\n",
       "      <td>0.007017</td>\n",
       "      <td>0.003215</td>\n",
       "      <td>0.861794</td>\n",
       "      <td>0.994199</td>\n",
       "      <td>SEKER</td>\n",
       "    </tr>\n",
       "    <tr>\n",
       "      <th>4</th>\n",
       "      <td>30140</td>\n",
       "      <td>620.134</td>\n",
       "      <td>201.847882</td>\n",
       "      <td>190.279279</td>\n",
       "      <td>1.060798</td>\n",
       "      <td>0.333680</td>\n",
       "      <td>30417</td>\n",
       "      <td>195.896503</td>\n",
       "      <td>0.773098</td>\n",
       "      <td>0.990893</td>\n",
       "      <td>0.984877</td>\n",
       "      <td>0.970516</td>\n",
       "      <td>0.006697</td>\n",
       "      <td>0.003665</td>\n",
       "      <td>0.941900</td>\n",
       "      <td>0.999166</td>\n",
       "      <td>SEKER</td>\n",
       "    </tr>\n",
       "  </tbody>\n",
       "</table>\n",
       "</div>"
      ],
      "text/plain": [
       "    Area  Perimeter  MajorAxisLength  MinorAxisLength  AspectRation  \\\n",
       "0  28395    610.291       208.178117       173.888747      1.197191   \n",
       "1  28734    638.018       200.524796       182.734419      1.097356   \n",
       "2  29380    624.110       212.826130       175.931143      1.209713   \n",
       "3  30008    645.884       210.557999       182.516516      1.153638   \n",
       "4  30140    620.134       201.847882       190.279279      1.060798   \n",
       "\n",
       "   Eccentricity  ConvexArea  EquivDiameter    Extent  Solidity  roundness  \\\n",
       "0      0.549812       28715     190.141097  0.763923  0.988856   0.958027   \n",
       "1      0.411785       29172     191.272750  0.783968  0.984986   0.887034   \n",
       "2      0.562727       29690     193.410904  0.778113  0.989559   0.947849   \n",
       "3      0.498616       30724     195.467062  0.782681  0.976696   0.903936   \n",
       "4      0.333680       30417     195.896503  0.773098  0.990893   0.984877   \n",
       "\n",
       "   Compactness  ShapeFactor1  ShapeFactor2  ShapeFactor3  ShapeFactor4  Class  \n",
       "0     0.913358      0.007332      0.003147      0.834222      0.998724  SEKER  \n",
       "1     0.953861      0.006979      0.003564      0.909851      0.998430  SEKER  \n",
       "2     0.908774      0.007244      0.003048      0.825871      0.999066  SEKER  \n",
       "3     0.928329      0.007017      0.003215      0.861794      0.994199  SEKER  \n",
       "4     0.970516      0.006697      0.003665      0.941900      0.999166  SEKER  "
      ]
     },
     "execution_count": 3,
     "metadata": {},
     "output_type": "execute_result"
    }
   ],
   "source": [
    "# link: \n",
    "df = pd.read_excel(data_path+\"dataset/Dry_Bean_Dataset.xlsx\")\n",
    "df.head()"
   ]
  },
  {
   "cell_type": "code",
   "execution_count": 4,
   "id": "c6509275",
   "metadata": {},
   "outputs": [
    {
     "data": {
      "text/plain": [
       "Area               0\n",
       "Perimeter          0\n",
       "MajorAxisLength    0\n",
       "MinorAxisLength    0\n",
       "AspectRation       0\n",
       "Eccentricity       0\n",
       "ConvexArea         0\n",
       "EquivDiameter      0\n",
       "Extent             0\n",
       "Solidity           0\n",
       "roundness          0\n",
       "Compactness        0\n",
       "ShapeFactor1       0\n",
       "ShapeFactor2       0\n",
       "ShapeFactor3       0\n",
       "ShapeFactor4       0\n",
       "Class              0\n",
       "dtype: int64"
      ]
     },
     "execution_count": 4,
     "metadata": {},
     "output_type": "execute_result"
    }
   ],
   "source": [
    "# check if there are missing values in the dataset\n",
    "df.isnull().sum()"
   ]
  },
  {
   "cell_type": "markdown",
   "id": "c568a252",
   "metadata": {},
   "source": [
    "# 3. Train/test splitting and normalization"
   ]
  },
  {
   "cell_type": "code",
   "execution_count": 5,
   "id": "bd4aa409",
   "metadata": {},
   "outputs": [
    {
     "name": "stdout",
     "output_type": "stream",
     "text": [
      "['Area', 'Perimeter', 'MajorAxisLength', 'MinorAxisLength', 'AspectRation', 'Eccentricity', 'ConvexArea', 'EquivDiameter', 'Extent', 'Solidity', 'roundness', 'Compactness', 'ShapeFactor1', 'ShapeFactor2', 'ShapeFactor3', 'ShapeFactor4']\n"
     ]
    }
   ],
   "source": [
    "df_columns = list(df.columns)\n",
    "df_columns.remove('Class')\n",
    "features = df_columns\n",
    "print(features)"
   ]
  },
  {
   "cell_type": "code",
   "execution_count": 6,
   "id": "08e69004",
   "metadata": {},
   "outputs": [],
   "source": [
    "X = df[features]\n",
    "y = df['Class']\n",
    "\n",
    "scaler = MinMaxScaler()\n",
    "X = scaler.fit_transform(X)\n",
    "\n",
    "encoder = LabelEncoder()\n",
    "y_num = encoder.fit_transform(y)\n",
    "y_one_hot = pd.get_dummies(y)\n",
    "\n",
    "indices = np.arange(len(X))\n",
    "\n",
    "(\n",
    "    X_train, \n",
    "    X_test, \n",
    "    y_train, \n",
    "    y_test, \n",
    "    train_indices, \n",
    "    test_indices)= train_test_split(X, y, indices, test_size = 0.3, random_state = 40)\n",
    "\n",
    "y_train_num = y_num[train_indices]\n",
    "y_test_num = y_num[test_indices]\n",
    "\n",
    "y_train_one_hot = y_one_hot.iloc[train_indices]\n",
    "y_test_one_hot = y_one_hot.iloc[test_indices]"
   ]
  },
  {
   "cell_type": "markdown",
   "id": "37e9df40",
   "metadata": {},
   "source": [
    "# 4. Accuracy report function"
   ]
  },
  {
   "cell_type": "code",
   "execution_count": 7,
   "id": "eed93e9e",
   "metadata": {},
   "outputs": [],
   "source": [
    "def accuracy_report(y_test, y_pred):\n",
    "    cm = confusion_matrix(y_test,y_pred)\n",
    "    acc_report = {}\n",
    "    labels = np.unique(y_test)\n",
    "    AA = 0\n",
    "    for label in labels:\n",
    "        per_class_acc = cm[label,label]/np.sum(cm[label,:]) * 100\n",
    "        acc_report[\"class \" + str(label)] = per_class_acc\n",
    "        AA+=per_class_acc\n",
    "    AA = AA/len(labels)\n",
    "    acc_report[\"OA\"] = accuracy_score(y_test, y_pred)*100\n",
    "    acc_report[\"AA\"] = AA\n",
    "    \n",
    "    return acc_report"
   ]
  },
  {
   "cell_type": "markdown",
   "id": "433cd24b",
   "metadata": {},
   "source": [
    "# 5. Artificial Neural Network Classification\n",
    "## 5.1.  hidden nodes = 32"
   ]
  },
  {
   "cell_type": "markdown",
   "id": "012c8b84",
   "metadata": {},
   "source": [
    "## 5.1.1. Building the network"
   ]
  },
  {
   "cell_type": "code",
   "execution_count": 8,
   "id": "b415d7fe",
   "metadata": {},
   "outputs": [],
   "source": [
    "LR = 0.0001"
   ]
  },
  {
   "cell_type": "code",
   "execution_count": 9,
   "id": "87577116",
   "metadata": {},
   "outputs": [
    {
     "name": "stdout",
     "output_type": "stream",
     "text": [
      "Model: \"sequential\"\n",
      "_________________________________________________________________\n",
      "Layer (type)                 Output Shape              Param #   \n",
      "=================================================================\n",
      "dense (Dense)                (None, 32)                544       \n",
      "_________________________________________________________________\n",
      "dense_1 (Dense)              (None, 7)                 231       \n",
      "=================================================================\n",
      "Total params: 775\n",
      "Trainable params: 775\n",
      "Non-trainable params: 0\n",
      "_________________________________________________________________\n"
     ]
    }
   ],
   "source": [
    "N_input = X_train.shape[1]\n",
    "N_output = y_train_one_hot.shape[1]\n",
    "\n",
    "ann_model = Sequential()\n",
    "ann_model.add(Dense(N_input*2, input_dim=N_input, activation='relu'))\n",
    "ann_model.add(Dense(N_output, activation='softmax'))\n",
    "\n",
    "optim = keras.optimizers.Adam(lr=LR)\n",
    "ann_model.compile(loss='binary_crossentropy', optimizer=optim, metrics=['accuracy']) # is binary_cross right?\n",
    "ann_model.summary()"
   ]
  },
  {
   "cell_type": "markdown",
   "id": "5d8ae0e9",
   "metadata": {},
   "source": [
    "## 5.1.2. Training the network"
   ]
  },
  {
   "cell_type": "code",
   "execution_count": 10,
   "id": "63a47a9d",
   "metadata": {},
   "outputs": [
    {
     "name": "stdout",
     "output_type": "stream",
     "text": [
      "Epoch 1/10\n",
      "953/953 [==============================] - 1s 1ms/step - loss: 0.3936 - accuracy: 0.2282\n",
      "Epoch 2/10\n",
      "953/953 [==============================] - 1s 1ms/step - loss: 0.3510 - accuracy: 0.4093\n",
      "Epoch 3/10\n",
      "953/953 [==============================] - 1s 1ms/step - loss: 0.3152 - accuracy: 0.4804\n",
      "Epoch 4/10\n",
      "953/953 [==============================] - 1s 1ms/step - loss: 0.2818 - accuracy: 0.5398\n",
      "Epoch 5/10\n",
      "953/953 [==============================] - 1s 1ms/step - loss: 0.2521 - accuracy: 0.6629\n",
      "Epoch 6/10\n",
      "953/953 [==============================] - 1s 1ms/step - loss: 0.2261 - accuracy: 0.7387\n",
      "Epoch 7/10\n",
      "953/953 [==============================] - 1s 1ms/step - loss: 0.2036 - accuracy: 0.7851\n",
      "Epoch 8/10\n",
      "953/953 [==============================] - 1s 1ms/step - loss: 0.1844 - accuracy: 0.8246\n",
      "Epoch 9/10\n",
      "953/953 [==============================] - 1s 1ms/step - loss: 0.1683 - accuracy: 0.8482\n",
      "Epoch 10/10\n",
      "953/953 [==============================] - 1s 1ms/step - loss: 0.1548 - accuracy: 0.8640\n"
     ]
    }
   ],
   "source": [
    "epochs=10\n",
    "batch_size=10\n",
    "\n",
    "history = ann_model.fit(X_train, y_train_one_hot, epochs=epochs, batch_size=batch_size)"
   ]
  },
  {
   "cell_type": "markdown",
   "id": "fa42d643",
   "metadata": {},
   "source": [
    "## 5.1.3. Plotting training performance"
   ]
  },
  {
   "cell_type": "code",
   "execution_count": 11,
   "id": "2b6f4733",
   "metadata": {},
   "outputs": [],
   "source": [
    "training_acc = history.history[\"accuracy\"]\n",
    "training_loss = history.history[\"loss\"]"
   ]
  },
  {
   "cell_type": "code",
   "execution_count": 18,
   "id": "4a207212",
   "metadata": {},
   "outputs": [
    {
     "data": {
      "image/png": "[encoded data removed]",
      "text/plain": [
       "<Figure size 720x432 with 1 Axes>"
      ]
     },
     "metadata": {
      "needs_background": "light"
     },
     "output_type": "display_data"
    }
   ],
   "source": [
    "plt.figure(figsize=(10,6))\n",
    "plt.plot(training_acc)\n",
    "plt.plot(training_loss)\n",
    "plt.plot(np.ones(len(training_acc))*training_acc[-1], color='k',linestyle = 'dashed')\n",
    "plt.plot(np.ones(len(training_loss))*training_loss[-1], color='k',linestyle = 'dashed')\n",
    "\n",
    "bbox = dict(boxstyle =\"round\", fc =\"0.8\")\n",
    "plt.annotate(\"{:.4f}\".format(training_acc[-1]), \n",
    "             xy =(0, training_acc[-1]),\n",
    "             xytext =(-0.7, training_acc[-1]), \n",
    "             bbox=bbox)\n",
    "plt.annotate(\"{:.4f}\".format(training_loss[-1]), \n",
    "             xy =(0, training_loss[-1]),\n",
    "             xytext =(-0.7, training_loss[-1]), \n",
    "             bbox=bbox)\n",
    "plt.xlim([0, epochs-1])\n",
    "plt.ylim([0, 1])\n",
    "plt.xlabel(\"Epochs\")\n",
    "plt.ylabel(\"Training accuracy\")\n",
    "plt.title(\"Evolution of ANN training accuracy per epoch\")\n",
    "plt.grid()\n",
    "plt.show()\n",
    "\n",
    "# add index for acc and loss"
   ]
  },
  {
   "cell_type": "markdown",
   "id": "069b2ff9",
   "metadata": {},
   "source": [
    "## 5.1.4. Testing the network"
   ]
  },
  {
   "cell_type": "markdown",
   "id": "cf5b9e52",
   "metadata": {},
   "source": [
    "##### a. Getting the prediction array"
   ]
  },
  {
   "cell_type": "code",
   "execution_count": 23,
   "id": "fefc7192",
   "metadata": {},
   "outputs": [
    {
     "data": {
      "text/html": [
       "<div>\n",
       "<style scoped>\n",
       "    .dataframe tbody tr th:only-of-type {\n",
       "        vertical-align: middle;\n",
       "    }\n",
       "\n",
       "    .dataframe tbody tr th {\n",
       "        vertical-align: top;\n",
       "    }\n",
       "\n",
       "    .dataframe thead th {\n",
       "        text-align: right;\n",
       "    }\n",
       "</style>\n",
       "<table border=\"1\" class=\"dataframe\">\n",
       "  <thead>\n",
       "    <tr style=\"text-align: right;\">\n",
       "      <th></th>\n",
       "      <th>ANN accuracy (%)</th>\n",
       "    </tr>\n",
       "  </thead>\n",
       "  <tbody>\n",
       "    <tr>\n",
       "      <th>class 0</th>\n",
       "      <td>47.47</td>\n",
       "    </tr>\n",
       "    <tr>\n",
       "      <th>class 1</th>\n",
       "      <td>99.32</td>\n",
       "    </tr>\n",
       "    <tr>\n",
       "      <th>class 2</th>\n",
       "      <td>93.49</td>\n",
       "    </tr>\n",
       "    <tr>\n",
       "      <th>class 3</th>\n",
       "      <td>96.01</td>\n",
       "    </tr>\n",
       "    <tr>\n",
       "      <th>class 4</th>\n",
       "      <td>95.93</td>\n",
       "    </tr>\n",
       "    <tr>\n",
       "      <th>class 5</th>\n",
       "      <td>93.69</td>\n",
       "    </tr>\n",
       "    <tr>\n",
       "      <th>class 6</th>\n",
       "      <td>72.54</td>\n",
       "    </tr>\n",
       "    <tr>\n",
       "      <th>OA</th>\n",
       "      <td>86.12</td>\n",
       "    </tr>\n",
       "    <tr>\n",
       "      <th>AA</th>\n",
       "      <td>85.49</td>\n",
       "    </tr>\n",
       "  </tbody>\n",
       "</table>\n",
       "</div>"
      ],
      "text/plain": [
       "         ANN accuracy (%)\n",
       "class 0             47.47\n",
       "class 1             99.32\n",
       "class 2             93.49\n",
       "class 3             96.01\n",
       "class 4             95.93\n",
       "class 5             93.69\n",
       "class 6             72.54\n",
       "OA                  86.12\n",
       "AA                  85.49"
      ]
     },
     "execution_count": 23,
     "metadata": {},
     "output_type": "execute_result"
    }
   ],
   "source": [
    "# getting the predictions array\n",
    "y_ann_pred = ann_model.predict(X_test)\n",
    "\n",
    "# normalizing the predictions array and displaying the accuracy report\n",
    "y_pred_num = [np.argmax(y_pred_elt) for y_pred_elt in y_ann_pred]\n",
    "acc_report = accuracy_report(y_test_num, y_pred_num)\n",
    "acc_report_df = pd.DataFrame(data=[round(acc,2) for acc in acc_report.values()], \n",
    "                             index=acc_report.keys(), \n",
    "                             columns=[\"ANN accuracy (%)\"])\n",
    "acc_report_df"
   ]
  },
  {
   "cell_type": "code",
   "execution_count": 24,
   "id": "a906917b",
   "metadata": {
    "scrolled": false
   },
   "outputs": [
    {
     "data": {
      "image/png": "[encoded data removed]",
      "text/plain": [
       "<Figure size 936x504 with 2 Axes>"
      ]
     },
     "metadata": {
      "needs_background": "light"
     },
     "output_type": "display_data"
    }
   ],
   "source": [
    "y_pred = encoder.inverse_transform(y_pred_num)\n",
    "cm_ann = confusion_matrix(y_test,y_pred)\n",
    "cm_ann = confusion_matrix(y_test, y_pred, labels=np.unique(y))\n",
    "disp = ConfusionMatrixDisplay(confusion_matrix=cm_ann,display_labels=np.unique(y))\n",
    "_, ax = plt.subplots(figsize=(13, 7))\n",
    "disp.plot(ax=ax)\n",
    "plt.title(\"ANN Dry Beans Classification Confusion Matrix\")\n",
    "plt.show()"
   ]
  },
  {
   "cell_type": "markdown",
   "id": "c5869b97",
   "metadata": {},
   "source": [
    "Inceasing the number of epochs and/or the number of hidden nodes will improve the classification results. However, a deep neural network (multiple hidden layers) will improve the accuracy results with a small number of epochs."
   ]
  },
  {
   "cell_type": "markdown",
   "id": "dfe081f3",
   "metadata": {},
   "source": [
    "# 6. Deep Neural Network Classification"
   ]
  },
  {
   "cell_type": "markdown",
   "id": "54fbcafe",
   "metadata": {},
   "source": [
    "## 6.1. Building the network"
   ]
  },
  {
   "cell_type": "code",
   "execution_count": 26,
   "id": "c9eec904",
   "metadata": {},
   "outputs": [
    {
     "name": "stdout",
     "output_type": "stream",
     "text": [
      "Model: \"sequential_2\"\n",
      "_________________________________________________________________\n",
      "Layer (type)                 Output Shape              Param #   \n",
      "=================================================================\n",
      "dense_10 (Dense)             (None, 8000)              136000    \n",
      "_________________________________________________________________\n",
      "dense_11 (Dense)             (None, 8000)              64008000  \n",
      "_________________________________________________________________\n",
      "dense_12 (Dense)             (None, 8000)              64008000  \n",
      "_________________________________________________________________\n",
      "dense_13 (Dense)             (None, 7)                 56007     \n",
      "=================================================================\n",
      "Total params: 128,208,007\n",
      "Trainable params: 128,208,007\n",
      "Non-trainable params: 0\n",
      "_________________________________________________________________\n"
     ]
    }
   ],
   "source": [
    "LR = 0.0001\n",
    "N_input = X_train.shape[1]\n",
    "N_output = y_train_one_hot.shape[1]\n",
    "\n",
    "dnn_model = Sequential()\n",
    "dnn_model.add(Dense(N_input*500, input_dim=N_input, activation='relu'))\n",
    "dnn_model.add(Dense(N_input*500, activation='relu'))\n",
    "dnn_model.add(Dense(N_input*500, activation='relu'))\n",
    "# dnn_model.add(Dense(N_input*500, input_dim=N_input, activation='relu'))\n",
    "# dnn_model.add(Dense(N_input*500, input_dim=N_input, activation='relu'))\n",
    "# dnn_model.add(Dense(N_input*500, input_dim=N_input, activation='relu'))\n",
    "# dnn_model.add(Dense(N_input*500, input_dim=N_input, activation='relu'))\n",
    "dnn_model.add(Dense(N_output, activation='softmax'))\n",
    "\n",
    "optim = keras.optimizers.Adam(lr=LR)\n",
    "dnn_model.compile(loss='binary_crossentropy', optimizer=optim, metrics=['accuracy']) # is binary_cross right?\n",
    "dnn_model.summary()"
   ]
  },
  {
   "cell_type": "markdown",
   "id": "c00a43f8",
   "metadata": {},
   "source": [
    "## 6.2. Training the network"
   ]
  },
  {
   "cell_type": "code",
   "execution_count": 27,
   "id": "22b75e7a",
   "metadata": {},
   "outputs": [],
   "source": [
    "epochs=10\n",
    "batch_size=10"
   ]
  },
  {
   "cell_type": "code",
   "execution_count": null,
   "id": "26c51faa",
   "metadata": {
    "scrolled": false
   },
   "outputs": [
    {
     "name": "stdout",
     "output_type": "stream",
     "text": [
      "Epoch 1/10\n",
      "953/953 [==============================] - 1079s 1s/step - loss: 0.0980 - accuracy: 0.8586\n",
      "Epoch 2/10\n",
      "953/953 [==============================] - 1298s 1s/step - loss: 0.0771 - accuracy: 0.8929\n",
      "Epoch 3/10\n",
      "953/953 [==============================] - 908s 953ms/step - loss: 0.0708 - accuracy: 0.9028\n",
      "Epoch 4/10\n",
      "953/953 [==============================] - 917s 962ms/step - loss: 0.0689 - accuracy: 0.9045\n",
      "Epoch 5/10\n",
      "953/953 [==============================] - 920s 966ms/step - loss: 0.0679 - accuracy: 0.9073\n",
      "Epoch 6/10\n",
      "740/953 [======================>.......] - ETA: 20:53 - loss: 0.0670 - accuracy: 0.9081"
     ]
    }
   ],
   "source": [
    "history = dnn_model.fit(X_train, y_train_one_hot, epochs=epochs, batch_size=batch_size)"
   ]
  },
  {
   "cell_type": "markdown",
   "id": "3c963f3c",
   "metadata": {},
   "source": [
    "## 6.3. Plotting training performance"
   ]
  },
  {
   "cell_type": "code",
   "execution_count": null,
   "id": "0bc5532c",
   "metadata": {},
   "outputs": [],
   "source": [
    "training_acc = history.history[\"accuracy\"]\n",
    "training_loss = history.history[\"loss\"]"
   ]
  },
  {
   "cell_type": "code",
   "execution_count": 18,
   "id": "0a20c6ec",
   "metadata": {},
   "outputs": [
    {
     "data": {
      "image/png": "[encoded data removed]",
      "text/plain": [
       "<Figure size 720x432 with 1 Axes>"
      ]
     },
     "metadata": {
      "needs_background": "light"
     },
     "output_type": "display_data"
    }
   ],
   "source": [
    "plt.figure(figsize=(10,6))\n",
    "plt.plot(training_acc)\n",
    "plt.plot(training_loss)\n",
    "plt.plot(np.ones(len(training_acc))*training_acc[-1], color='k',linestyle = 'dashed')\n",
    "plt.plot(np.ones(len(training_loss))*training_loss[-1], color='k',linestyle = 'dashed')\n",
    "\n",
    "bbox = dict(boxstyle =\"round\", fc =\"0.8\")\n",
    "plt.annotate(\"{:.4f}\".format(training_acc[-1]), \n",
    "             xy =(0, training_acc[-1]),\n",
    "             xytext =(-0.7, training_acc[-1]), \n",
    "             bbox=bbox)\n",
    "plt.annotate(\"{:.4f}\".format(training_loss[-1]), \n",
    "             xy =(0, training_loss[-1]),\n",
    "             xytext =(-0.7, training_loss[-1]), \n",
    "             bbox=bbox)\n",
    "plt.xlim([0, epochs-1])\n",
    "plt.ylim([0, 1])\n",
    "plt.xlabel(\"Epochs\")\n",
    "plt.ylabel(\"Training accuracy\")\n",
    "plt.title(\"Evolution of ANN training accuracy per epoch\")\n",
    "plt.grid()\n",
    "plt.show()\n",
    "\n",
    "# add index for acc and loss"
   ]
  },
  {
   "cell_type": "markdown",
   "id": "528341f8",
   "metadata": {},
   "source": [
    "## 6.4. Testing the network"
   ]
  },
  {
   "cell_type": "code",
   "execution_count": 23,
   "id": "a14710f7",
   "metadata": {},
   "outputs": [
    {
     "data": {
      "text/html": [
       "<div>\n",
       "<style scoped>\n",
       "    .dataframe tbody tr th:only-of-type {\n",
       "        vertical-align: middle;\n",
       "    }\n",
       "\n",
       "    .dataframe tbody tr th {\n",
       "        vertical-align: top;\n",
       "    }\n",
       "\n",
       "    .dataframe thead th {\n",
       "        text-align: right;\n",
       "    }\n",
       "</style>\n",
       "<table border=\"1\" class=\"dataframe\">\n",
       "  <thead>\n",
       "    <tr style=\"text-align: right;\">\n",
       "      <th></th>\n",
       "      <th>ANN accuracy (%)</th>\n",
       "    </tr>\n",
       "  </thead>\n",
       "  <tbody>\n",
       "    <tr>\n",
       "      <th>class 0</th>\n",
       "      <td>47.47</td>\n",
       "    </tr>\n",
       "    <tr>\n",
       "      <th>class 1</th>\n",
       "      <td>99.32</td>\n",
       "    </tr>\n",
       "    <tr>\n",
       "      <th>class 2</th>\n",
       "      <td>93.49</td>\n",
       "    </tr>\n",
       "    <tr>\n",
       "      <th>class 3</th>\n",
       "      <td>96.01</td>\n",
       "    </tr>\n",
       "    <tr>\n",
       "      <th>class 4</th>\n",
       "      <td>95.93</td>\n",
       "    </tr>\n",
       "    <tr>\n",
       "      <th>class 5</th>\n",
       "      <td>93.69</td>\n",
       "    </tr>\n",
       "    <tr>\n",
       "      <th>class 6</th>\n",
       "      <td>72.54</td>\n",
       "    </tr>\n",
       "    <tr>\n",
       "      <th>OA</th>\n",
       "      <td>86.12</td>\n",
       "    </tr>\n",
       "    <tr>\n",
       "      <th>AA</th>\n",
       "      <td>85.49</td>\n",
       "    </tr>\n",
       "  </tbody>\n",
       "</table>\n",
       "</div>"
      ],
      "text/plain": [
       "         ANN accuracy (%)\n",
       "class 0             47.47\n",
       "class 1             99.32\n",
       "class 2             93.49\n",
       "class 3             96.01\n",
       "class 4             95.93\n",
       "class 5             93.69\n",
       "class 6             72.54\n",
       "OA                  86.12\n",
       "AA                  85.49"
      ]
     },
     "execution_count": 23,
     "metadata": {},
     "output_type": "execute_result"
    }
   ],
   "source": [
    "# getting the predictions array\n",
    "y_dnn_pred = ann_model.predict(X_test)\n",
    "\n",
    "# normalizing the predictions array and displaying the accuracy report\n",
    "y_pred_num = [np.argmax(y_pred_elt) for y_pred_elt in y_dnn_pred]\n",
    "acc_report = accuracy_report(y_test_num, y_pred_num)\n",
    "acc_report_df[\"DNN accuracy (%)\"] = acc_report_df\n",
    "acc_report_df"
   ]
  },
  {
   "cell_type": "code",
   "execution_count": 210,
   "id": "625640ce",
   "metadata": {},
   "outputs": [
    {
     "name": "stdout",
     "output_type": "stream",
     "text": [
      "class 0  =  93.43  %\n",
      "class 1  =  100.00  %\n",
      "class 2  =  93.91  %\n",
      "class 3  =  93.41  %\n",
      "class 4  =  94.58  %\n",
      "class 5  =  93.86  %\n",
      "class 6  =  87.56  %\n",
      "OA  =  92.78  %\n",
      "AA  =  93.82  %\n"
     ]
    }
   ],
   "source": [
    "y_pred_num = [y_oh_pred[i].index(1) for i in range(len(y_oh_pred))]\n",
    "acc_report = accuracy_report(y_test_num, y_pred_num)\n",
    "\n",
    "for key in acc_report:\n",
    "    print(key, \" = \", \"{:.2f}\".format(acc_report[key]), \" %\")"
   ]
  }
 ],
 "metadata": {
  "kernelspec": {
   "display_name": "Python 3.7 (tensorflow)",
   "language": "python",
   "name": "tensorflow"
  },
  "language_info": {
   "codemirror_mode": {
    "name": "ipython",
    "version": 3
   },
   "file_extension": ".py",
   "mimetype": "text/x-python",
   "name": "python",
   "nbconvert_exporter": "python",
   "pygments_lexer": "ipython3",
   "version": "3.7.6"
  }
 },
 "nbformat": 4,
 "nbformat_minor": 5
}
