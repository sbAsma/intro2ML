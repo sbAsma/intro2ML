{
 "cells": [
  {
   "cell_type": "markdown",
   "id": "6507f27e",
   "metadata": {},
   "source": [
    "# 1. Importing libraries"
   ]
  },
  {
   "cell_type": "code",
   "execution_count": 1,
   "id": "65202d35",
   "metadata": {},
   "outputs": [],
   "source": [
    "import numpy as np\n",
    "import pandas as pd\n",
    "from sklearn.preprocessing import MinMaxScaler\n",
    "from sklearn.preprocessing import LabelEncoder # not needed\n",
    "from sklearn.model_selection import train_test_split\n",
    "# from sklearn.model_selection import GridSearchCV\n",
    "\n",
    "import keras\n",
    "from keras.models import Sequential\n",
    "from keras.layers import Dense\n",
    "\n",
    "from sklearn.metrics import confusion_matrix, accuracy_score, ConfusionMatrixDisplay\n",
    "import matplotlib.pyplot as plt"
   ]
  },
  {
   "cell_type": "code",
   "execution_count": 2,
   "id": "f3d7fc5d",
   "metadata": {},
   "outputs": [],
   "source": [
    "from google.colab import drive\n",
    "drive.mount('/content/drive')\n",
    "\n",
    "data_path = \"/content/drive/MyDrive/\""
   ]
  },
  {
   "cell_type": "markdown",
   "id": "3b410b73",
   "metadata": {},
   "source": [
    "# 2. Loading the dataset"
   ]
  },
  {
   "cell_type": "code",
   "execution_count": 3,
   "id": "4009f4a5",
   "metadata": {},
   "outputs": [],
   "source": [
    "# link: https://www.kaggle.com/datasets/muratkokludataset/dry-bean-dataset\n",
    "df = pd.read_excel(data_path+\"dataset/Dry_Bean_Dataset.xlsx\")\n",
    "df.head()"
   ]
  },
  {
   "cell_type": "code",
   "execution_count": 4,
   "id": "c6509275",
   "metadata": {},
   "outputs": [],
   "source": [
    "df.isnull().sum().sum()"
   ]
  },
  {
   "cell_type": "markdown",
   "id": "c568a252",
   "metadata": {},
   "source": [
    "# 3. Train/test splitting and normalization"
   ]
  },
  {
   "cell_type": "code",
   "execution_count": null,
   "id": "bd4aa409",
   "metadata": {},
   "outputs": [],
   "source": []
  },
  {
   "cell_type": "code",
   "execution_count": null,
   "id": "08e69004",
   "metadata": {},
   "outputs": [],
   "source": []
  },
  {
   "cell_type": "markdown",
   "id": "37e9df40",
   "metadata": {},
   "source": [
    "# 4. Accuracy report function"
   ]
  },
  {
   "cell_type": "code",
   "execution_count": 5,
   "id": "eed93e9e",
   "metadata": {},
   "outputs": [],
   "source": [
    "def accuracy_report(y_test, y_pred):\n",
    "    cm = confusion_matrix(y_test,y_pred)\n",
    "    acc_report = {}\n",
    "    labels = np.unique(y_test)\n",
    "    AA = 0\n",
    "    for label in labels:\n",
    "        per_class_acc = cm[label,label]/np.sum(cm[label,:]) * 100\n",
    "        acc_report[\"class \" + str(label)] = per_class_acc\n",
    "        AA+=per_class_acc\n",
    "    AA = AA/len(labels)\n",
    "    acc_report[\"OA\"] = accuracy_score(y_test, y_pred)*100\n",
    "    acc_report[\"AA\"] = AA\n",
    "    \n",
    "    return acc_report"
   ]
  },
  {
   "cell_type": "markdown",
   "id": "433cd24b",
   "metadata": {},
   "source": [
    "# 5. Artificial Neural Network Classification\n",
    "## 5.1.  hidden nodes = 32"
   ]
  },
  {
   "cell_type": "markdown",
   "id": "012c8b84",
   "metadata": {},
   "source": [
    "## 5.1.1. Building the network"
   ]
  },
  {
   "cell_type": "code",
   "execution_count": null,
   "id": "b415d7fe",
   "metadata": {},
   "outputs": [],
   "source": []
  },
  {
   "cell_type": "code",
   "execution_count": null,
   "id": "87577116",
   "metadata": {},
   "outputs": [],
   "source": []
  },
  {
   "cell_type": "markdown",
   "id": "5d8ae0e9",
   "metadata": {},
   "source": [
    "## 5.1.2. Training the network"
   ]
  },
  {
   "cell_type": "code",
   "execution_count": null,
   "id": "63a47a9d",
   "metadata": {},
   "outputs": [],
   "source": []
  },
  {
   "cell_type": "code",
   "execution_count": null,
   "id": "aa8db271",
   "metadata": {
    "scrolled": true
   },
   "outputs": [],
   "source": []
  },
  {
   "cell_type": "markdown",
   "id": "fa42d643",
   "metadata": {},
   "source": [
    "## 5.1.3. Plotting training performance"
   ]
  },
  {
   "cell_type": "code",
   "execution_count": null,
   "id": "2b6f4733",
   "metadata": {},
   "outputs": [],
   "source": []
  },
  {
   "cell_type": "code",
   "execution_count": null,
   "id": "4a207212",
   "metadata": {},
   "outputs": [],
   "source": []
  },
  {
   "cell_type": "markdown",
   "id": "069b2ff9",
   "metadata": {},
   "source": [
    "## 5.1.4. Testing the network"
   ]
  },
  {
   "cell_type": "markdown",
   "id": "cf5b9e52",
   "metadata": {},
   "source": [
    "##### a. Getting the prediction array"
   ]
  },
  {
   "cell_type": "code",
   "execution_count": null,
   "id": "fefc7192",
   "metadata": {},
   "outputs": [],
   "source": []
  },
  {
   "cell_type": "markdown",
   "id": "746bbc96",
   "metadata": {},
   "source": [
    "##### b. Normalizing the prediction array"
   ]
  },
  {
   "cell_type": "code",
   "execution_count": null,
   "id": "f42986f6",
   "metadata": {},
   "outputs": [],
   "source": []
  },
  {
   "cell_type": "markdown",
   "id": "b56f1a07",
   "metadata": {},
   "source": [
    "##### b. Decoding the one-hot prediction array and displaying the accuracy report"
   ]
  },
  {
   "cell_type": "code",
   "execution_count": null,
   "id": "a3788ad5",
   "metadata": {},
   "outputs": [],
   "source": []
  },
  {
   "cell_type": "code",
   "execution_count": null,
   "id": "a906917b",
   "metadata": {
    "scrolled": false
   },
   "outputs": [],
   "source": []
  },
  {
   "cell_type": "markdown",
   "id": "61e45166",
   "metadata": {},
   "source": [
    "## 5.2.  Increasing the number of hidden nodes"
   ]
  },
  {
   "cell_type": "code",
   "execution_count": null,
   "id": "45b0c18d",
   "metadata": {},
   "outputs": [],
   "source": []
  },
  {
   "cell_type": "code",
   "execution_count": null,
   "id": "a24a2202",
   "metadata": {
    "scrolled": true
   },
   "outputs": [],
   "source": []
  },
  {
   "cell_type": "code",
   "execution_count": null,
   "id": "611e70a6",
   "metadata": {},
   "outputs": [],
   "source": []
  },
  {
   "cell_type": "markdown",
   "id": "dfe081f3",
   "metadata": {},
   "source": [
    "# 6. Deep Neural Network Classification"
   ]
  },
  {
   "cell_type": "markdown",
   "id": "54fbcafe",
   "metadata": {},
   "source": [
    "## 6.1. Building the network"
   ]
  },
  {
   "cell_type": "code",
   "execution_count": null,
   "id": "6fba1fc4",
   "metadata": {},
   "outputs": [],
   "source": []
  },
  {
   "cell_type": "code",
   "execution_count": null,
   "id": "c9eec904",
   "metadata": {},
   "outputs": [],
   "source": []
  },
  {
   "cell_type": "markdown",
   "id": "c00a43f8",
   "metadata": {},
   "source": [
    "## 6.2. Training the network"
   ]
  },
  {
   "cell_type": "code",
   "execution_count": null,
   "id": "22b75e7a",
   "metadata": {},
   "outputs": [],
   "source": []
  },
  {
   "cell_type": "code",
   "execution_count": null,
   "id": "26c51faa",
   "metadata": {
    "scrolled": true
   },
   "outputs": [],
   "source": []
  },
  {
   "cell_type": "markdown",
   "id": "4bf4dff0",
   "metadata": {},
   "source": [
    "## 6.3. Plotting training performance"
   ]
  },
  {
   "cell_type": "code",
   "execution_count": null,
   "id": "8a74f861",
   "metadata": {},
   "outputs": [],
   "source": []
  },
  {
   "cell_type": "markdown",
   "id": "528341f8",
   "metadata": {},
   "source": [
    "## 6.4. Testing the network"
   ]
  },
  {
   "cell_type": "markdown",
   "id": "b56bcb3b",
   "metadata": {},
   "source": [
    "##### a. Getting the prediction array"
   ]
  },
  {
   "cell_type": "code",
   "execution_count": null,
   "id": "f682b1bb",
   "metadata": {},
   "outputs": [],
   "source": []
  },
  {
   "cell_type": "markdown",
   "id": "3a3f7700",
   "metadata": {},
   "source": [
    "##### b. Normalizing the prediction array"
   ]
  },
  {
   "cell_type": "code",
   "execution_count": null,
   "id": "b487402e",
   "metadata": {},
   "outputs": [],
   "source": []
  },
  {
   "cell_type": "markdown",
   "id": "46cf397b",
   "metadata": {},
   "source": [
    "##### b. Decoding the one-hot prediction array and displaying the accuracy report"
   ]
  },
  {
   "cell_type": "code",
   "execution_count": null,
   "id": "625640ce",
   "metadata": {},
   "outputs": [],
   "source": []
  },
  {
   "cell_type": "code",
   "execution_count": null,
   "id": "96e38429",
   "metadata": {
    "scrolled": false
   },
   "outputs": [],
   "source": []
  }
 ],
 "metadata": {
  "kernelspec": {
   "display_name": "Python 3.7 (tensorflow)",
   "language": "python",
   "name": "tensorflow"
  },
  "language_info": {
   "codemirror_mode": {
    "name": "ipython",
    "version": 3
   },
   "file_extension": ".py",
   "mimetype": "text/x-python",
   "name": "python",
   "nbconvert_exporter": "python",
   "pygments_lexer": "ipython3",
   "version": "3.7.6"
  }
 },
 "nbformat": 4,
 "nbformat_minor": 5
}
