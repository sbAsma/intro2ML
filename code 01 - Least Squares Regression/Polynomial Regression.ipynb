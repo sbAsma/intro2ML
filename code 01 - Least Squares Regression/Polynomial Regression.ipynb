{
 "cells": [
  {
   "cell_type": "markdown",
   "id": "6d8efb24",
   "metadata": {},
   "source": [
    "# 1. Importing libraries"
   ]
  },
  {
   "cell_type": "code",
   "execution_count": 62,
   "id": "a9e4ac88",
   "metadata": {},
   "outputs": [],
   "source": [
    "import numpy as np\n",
    "import pandas as pd\n",
    "import matplotlib.pyplot as plt\n",
    "from sklearn.preprocessing import MinMaxScaler, StandardScaler\n",
    "from sklearn.model_selection import train_test_split\n",
    "from sklearn.linear_model import LinearRegression\n",
    "from sklearn.preprocessing import PolynomialFeatures\n",
    "from sklearn.metrics import mean_squared_error, mean_absolute_error, r2_score"
   ]
  },
  {
   "cell_type": "markdown",
   "id": "296e3286",
   "metadata": {},
   "source": [
    "# 2. Loading dataset"
   ]
  },
  {
   "cell_type": "code",
   "execution_count": 63,
   "id": "e702f5d8",
   "metadata": {},
   "outputs": [
    {
     "data": {
      "text/html": [
       "<div>\n",
       "<style scoped>\n",
       "    .dataframe tbody tr th:only-of-type {\n",
       "        vertical-align: middle;\n",
       "    }\n",
       "\n",
       "    .dataframe tbody tr th {\n",
       "        vertical-align: top;\n",
       "    }\n",
       "\n",
       "    .dataframe thead th {\n",
       "        text-align: right;\n",
       "    }\n",
       "</style>\n",
       "<table border=\"1\" class=\"dataframe\">\n",
       "  <thead>\n",
       "    <tr style=\"text-align: right;\">\n",
       "      <th></th>\n",
       "      <th>Position</th>\n",
       "      <th>Level</th>\n",
       "      <th>Salary</th>\n",
       "    </tr>\n",
       "  </thead>\n",
       "  <tbody>\n",
       "    <tr>\n",
       "      <th>0</th>\n",
       "      <td>Business Analyst</td>\n",
       "      <td>1</td>\n",
       "      <td>45000</td>\n",
       "    </tr>\n",
       "    <tr>\n",
       "      <th>1</th>\n",
       "      <td>Junior Consultant</td>\n",
       "      <td>2</td>\n",
       "      <td>50000</td>\n",
       "    </tr>\n",
       "    <tr>\n",
       "      <th>2</th>\n",
       "      <td>Senior Consultant</td>\n",
       "      <td>3</td>\n",
       "      <td>60000</td>\n",
       "    </tr>\n",
       "    <tr>\n",
       "      <th>3</th>\n",
       "      <td>Manager</td>\n",
       "      <td>4</td>\n",
       "      <td>80000</td>\n",
       "    </tr>\n",
       "    <tr>\n",
       "      <th>4</th>\n",
       "      <td>Country Manager</td>\n",
       "      <td>5</td>\n",
       "      <td>110000</td>\n",
       "    </tr>\n",
       "  </tbody>\n",
       "</table>\n",
       "</div>"
      ],
      "text/plain": [
       "            Position  Level  Salary\n",
       "0   Business Analyst      1   45000\n",
       "1  Junior Consultant      2   50000\n",
       "2  Senior Consultant      3   60000\n",
       "3            Manager      4   80000\n",
       "4    Country Manager      5  110000"
      ]
     },
     "execution_count": 63,
     "metadata": {},
     "output_type": "execute_result"
    }
   ],
   "source": [
    "df = pd.read_csv(\"dataset/Position_Salaries.csv\")\n",
    "df.head()"
   ]
  },
  {
   "cell_type": "code",
   "execution_count": 64,
   "id": "ec3ba3ec",
   "metadata": {
    "scrolled": false
   },
   "outputs": [
    {
     "data": {
      "text/plain": [
       "<matplotlib.axes._subplots.AxesSubplot at 0x1bdeba77688>"
      ]
     },
     "execution_count": 64,
     "metadata": {},
     "output_type": "execute_result"
    },
    {
     "data": {
      "image/png": "[encoded data removed]",
      "text/plain": [
       "<Figure size 432x288 with 1 Axes>"
      ]
     },
     "metadata": {
      "needs_background": "light"
     },
     "output_type": "display_data"
    }
   ],
   "source": [
    "df.plot.scatter(x=\"Level\", y=\"Salary\")"
   ]
  },
  {
   "cell_type": "markdown",
   "id": "378bdf38",
   "metadata": {},
   "source": [
    "# 3. Splitting data into train/test"
   ]
  },
  {
   "cell_type": "code",
   "execution_count": 65,
   "id": "f16a9790",
   "metadata": {},
   "outputs": [],
   "source": [
    "np.random.seed(0)\n",
    "X = df[\"Level\"].values  \n",
    "y = df[\"Salary\"].values\n",
    "\n",
    "X = X.reshape(-1, 1)\n",
    "y = y.reshape(-1, 1)\n",
    "\n",
    "scalerX = MinMaxScaler()\n",
    "scalerY = MinMaxScaler()\n",
    "\n",
    "X = scalerX.fit_transform(X)\n",
    "y = scalerY.fit_transform(y)\n",
    "\n",
    "X_train, X_test, y_train, y_test= train_test_split(X, y, train_size = 0.7, test_size = 0.3, random_state = 100)"
   ]
  },
  {
   "cell_type": "markdown",
   "id": "1ce75268",
   "metadata": {},
   "source": [
    "# 4. Polynomial regression with degree = 2"
   ]
  },
  {
   "cell_type": "code",
   "execution_count": 68,
   "id": "a1d41a67",
   "metadata": {},
   "outputs": [
    {
     "data": {
      "text/html": [
       "<div>\n",
       "<style scoped>\n",
       "    .dataframe tbody tr th:only-of-type {\n",
       "        vertical-align: middle;\n",
       "    }\n",
       "\n",
       "    .dataframe tbody tr th {\n",
       "        vertical-align: top;\n",
       "    }\n",
       "\n",
       "    .dataframe thead th {\n",
       "        text-align: right;\n",
       "    }\n",
       "</style>\n",
       "<table border=\"1\" class=\"dataframe\">\n",
       "  <thead>\n",
       "    <tr style=\"text-align: right;\">\n",
       "      <th></th>\n",
       "      <th>d=2</th>\n",
       "    </tr>\n",
       "  </thead>\n",
       "  <tbody>\n",
       "    <tr>\n",
       "      <th>MSE</th>\n",
       "      <td>0.013065</td>\n",
       "    </tr>\n",
       "    <tr>\n",
       "      <th>MAE</th>\n",
       "      <td>0.095716</td>\n",
       "    </tr>\n",
       "    <tr>\n",
       "      <th>R²</th>\n",
       "      <td>-0.128849</td>\n",
       "    </tr>\n",
       "  </tbody>\n",
       "</table>\n",
       "</div>"
      ],
      "text/plain": [
       "          d=2\n",
       "MSE  0.013065\n",
       "MAE  0.095716\n",
       "R²  -0.128849"
      ]
     },
     "execution_count": 68,
     "metadata": {},
     "output_type": "execute_result"
    }
   ],
   "source": [
    "poly_ftrs_d2 = PolynomialFeatures(degree=2)\n",
    "\n",
    "X_train_d2 = poly_ftrs_d2.fit_transform(X_train)\n",
    "X_test_d2 = poly_ftrs_d2.transform(X_test)\n",
    "\n",
    "poly_reg = LinearRegression()\n",
    "poly_reg.fit(X_train_d2,y_train)\n",
    "\n",
    "y_pred_d2 = poly_reg.predict(X_test_d2)\n",
    "\n",
    "MSE_d2 = mean_squared_error(y_test,y_pred_d2)\n",
    "MAE_d2 = mean_absolute_error(y_test,y_pred_d2)\n",
    "R2_d2 = r2_score(y_test,y_pred_d2)\n",
    "\n",
    "evalmetrics = pd.DataFrame(data = [MSE_d2, MAE_d2, R2_d2],\n",
    "                          columns=[\"d=2\"], index=[\"MSE\", \"MAE\", \"R²\"])\n",
    "\n",
    "evalmetrics"
   ]
  },
  {
   "cell_type": "code",
   "execution_count": 69,
   "id": "5449f154",
   "metadata": {},
   "outputs": [
    {
     "data": {
      "image/png": "[encoded data removed]",
      "text/plain": [
       "<Figure size 432x288 with 1 Axes>"
      ]
     },
     "metadata": {
      "needs_background": "light"
     },
     "output_type": "display_data"
    }
   ],
   "source": [
    "\n",
    "X_poly_disp = np.arange(0,1,0.001).reshape(-1, 1)\n",
    "plt.scatter(X_train,y_train,color=\"blue\", label=\"Training samples\")  \n",
    "plt.scatter(X_test,y_test,color=\"green\", label=\"Target output\")  \n",
    "plt.plot(X_poly_disp,poly_reg.predict(poly_ftrs_d2.fit_transform(X_poly_disp)), color=\"red\", label=\"polyn d = 2\")  \n",
    "plt.scatter(X_test,y_pred_d2, color = \"orange\", label=\"Predicted output\")  \n",
    "plt.xlabel(\"Position Levels\")  \n",
    "plt.ylabel(\"Salary\")  \n",
    "plt.legend()\n",
    "\n",
    "plt.show()"
   ]
  },
  {
   "cell_type": "markdown",
   "id": "26b6fcc4",
   "metadata": {},
   "source": [
    "# 5. Polynomial regression with degree = 3"
   ]
  },
  {
   "cell_type": "code",
   "execution_count": 58,
   "id": "58b931ee",
   "metadata": {},
   "outputs": [
    {
     "data": {
      "text/html": [
       "<div>\n",
       "<style scoped>\n",
       "    .dataframe tbody tr th:only-of-type {\n",
       "        vertical-align: middle;\n",
       "    }\n",
       "\n",
       "    .dataframe tbody tr th {\n",
       "        vertical-align: top;\n",
       "    }\n",
       "\n",
       "    .dataframe thead th {\n",
       "        text-align: right;\n",
       "    }\n",
       "</style>\n",
       "<table border=\"1\" class=\"dataframe\">\n",
       "  <thead>\n",
       "    <tr style=\"text-align: right;\">\n",
       "      <th></th>\n",
       "      <th>d=2</th>\n",
       "      <th>d=3</th>\n",
       "      <th>d=5</th>\n",
       "    </tr>\n",
       "  </thead>\n",
       "  <tbody>\n",
       "    <tr>\n",
       "      <th>MSE</th>\n",
       "      <td>0.013065</td>\n",
       "      <td>0.001051</td>\n",
       "      <td>0.000125</td>\n",
       "    </tr>\n",
       "    <tr>\n",
       "      <th>MAE</th>\n",
       "      <td>0.095716</td>\n",
       "      <td>0.031365</td>\n",
       "      <td>0.009949</td>\n",
       "    </tr>\n",
       "    <tr>\n",
       "      <th>R²</th>\n",
       "      <td>-0.128849</td>\n",
       "      <td>0.909204</td>\n",
       "      <td>0.989215</td>\n",
       "    </tr>\n",
       "  </tbody>\n",
       "</table>\n",
       "</div>"
      ],
      "text/plain": [
       "          d=2       d=3       d=5\n",
       "MSE  0.013065  0.001051  0.000125\n",
       "MAE  0.095716  0.031365  0.009949\n",
       "R²  -0.128849  0.909204  0.989215"
      ]
     },
     "execution_count": 58,
     "metadata": {},
     "output_type": "execute_result"
    }
   ],
   "source": [
    "poly_ftrs_d3 = PolynomialFeatures(degree=3)\n",
    "\n",
    "X_train_d3 = poly_ftrs_d3.fit_transform(X_train)\n",
    "X_test_d3 = poly_ftrs_d3.transform(X_test)\n",
    "\n",
    "poly_reg = LinearRegression()\n",
    "poly_reg.fit(X_train_d3,y_train)\n",
    "\n",
    "y_pred_d3 = poly_reg.predict(X_test_d3)\n",
    "\n",
    "MSE_d3 = mean_squared_error(y_test,y_pred_d3)\n",
    "MAE_d3 = mean_absolute_error(y_test,y_pred_d3)\n",
    "R2_d3 = r2_score(y_test,y_pred_d3)\n",
    "\n",
    "\n",
    "evalmetrics[\"d=3\"] = [MSE_d3, MAE_d3, R2_d3]\n",
    "evalmetrics"
   ]
  },
  {
   "cell_type": "code",
   "execution_count": 59,
   "id": "1aa84c7b",
   "metadata": {},
   "outputs": [
    {
     "data": {
      "image/png": "[encoded data removed]",
      "text/plain": [
       "<Figure size 432x288 with 1 Axes>"
      ]
     },
     "metadata": {
      "needs_background": "light"
     },
     "output_type": "display_data"
    }
   ],
   "source": [
    "X_poly_disp = np.arange(0,1,0.001).reshape(-1, 1)\n",
    "plt.scatter(X_train,y_train,color=\"blue\", label=\"Training samples\")  \n",
    "plt.scatter(X_test,y_test,color=\"green\", label=\"Target output\")  \n",
    "plt.plot(X_poly_disp,poly_reg.predict(poly_ftrs_d3.fit_transform(X_poly_disp)), color=\"red\", label=\"polyn d = 3\")  \n",
    "plt.scatter(X_test,y_pred_d3, color = \"orange\", label=\"Predicted output\")  \n",
    "plt.xlabel(\"Position Levels\")  \n",
    "plt.ylabel(\"Salary\")  \n",
    "plt.legend()\n",
    "\n",
    "plt.show()"
   ]
  },
  {
   "cell_type": "markdown",
   "id": "b45a43e5",
   "metadata": {},
   "source": [
    "the values are scaled, it's not important because the scaler function respects the distribution of the data"
   ]
  },
  {
   "cell_type": "markdown",
   "id": "4014281f",
   "metadata": {},
   "source": [
    "# 6. Polynomial regression with degree = 5"
   ]
  },
  {
   "cell_type": "code",
   "execution_count": 55,
   "id": "f22ca088",
   "metadata": {},
   "outputs": [
    {
     "data": {
      "text/html": [
       "<div>\n",
       "<style scoped>\n",
       "    .dataframe tbody tr th:only-of-type {\n",
       "        vertical-align: middle;\n",
       "    }\n",
       "\n",
       "    .dataframe tbody tr th {\n",
       "        vertical-align: top;\n",
       "    }\n",
       "\n",
       "    .dataframe thead th {\n",
       "        text-align: right;\n",
       "    }\n",
       "</style>\n",
       "<table border=\"1\" class=\"dataframe\">\n",
       "  <thead>\n",
       "    <tr style=\"text-align: right;\">\n",
       "      <th></th>\n",
       "      <th>d=2</th>\n",
       "      <th>d=3</th>\n",
       "      <th>d=5</th>\n",
       "    </tr>\n",
       "  </thead>\n",
       "  <tbody>\n",
       "    <tr>\n",
       "      <th>MSE</th>\n",
       "      <td>0.013065</td>\n",
       "      <td>0.001051</td>\n",
       "      <td>0.000125</td>\n",
       "    </tr>\n",
       "    <tr>\n",
       "      <th>MAE</th>\n",
       "      <td>0.095716</td>\n",
       "      <td>0.031365</td>\n",
       "      <td>0.009949</td>\n",
       "    </tr>\n",
       "    <tr>\n",
       "      <th>R²</th>\n",
       "      <td>-0.128849</td>\n",
       "      <td>0.909204</td>\n",
       "      <td>0.989215</td>\n",
       "    </tr>\n",
       "  </tbody>\n",
       "</table>\n",
       "</div>"
      ],
      "text/plain": [
       "          d=2       d=3       d=5\n",
       "MSE  0.013065  0.001051  0.000125\n",
       "MAE  0.095716  0.031365  0.009949\n",
       "R²  -0.128849  0.909204  0.989215"
      ]
     },
     "execution_count": 55,
     "metadata": {},
     "output_type": "execute_result"
    }
   ],
   "source": [
    "poly_ftrs_d5 = PolynomialFeatures(degree=5)\n",
    "\n",
    "X_train_d5 = poly_ftrs_d5.fit_transform(X_train)\n",
    "X_test_d5 = poly_ftrs_d5.transform(X_test)\n",
    "\n",
    "poly_reg = LinearRegression()\n",
    "poly_reg.fit(X_train_d5,y_train)\n",
    "\n",
    "y_pred_d5 = poly_reg.predict(X_test_d5)\n",
    "\n",
    "MSE_d5 = mean_squared_error(y_test,y_pred_d5)\n",
    "MAE_d5 = mean_absolute_error(y_test,y_pred_d5)\n",
    "R2_d5 = r2_score(y_test,y_pred_d5)\n",
    "\n",
    "\n",
    "evalmetrics[\"d=5\"] = [MSE_d5, MAE_d5, R2_d5]\n",
    "evalmetrics"
   ]
  },
  {
   "cell_type": "code",
   "execution_count": 56,
   "id": "7e0047e9",
   "metadata": {},
   "outputs": [
    {
     "data": {
      "image/png": "[encoded data removed]",
      "text/plain": [
       "<Figure size 432x288 with 1 Axes>"
      ]
     },
     "metadata": {
      "needs_background": "light"
     },
     "output_type": "display_data"
    }
   ],
   "source": [
    "X_poly_disp = np.arange(0,1,0.001).reshape(-1, 1)\n",
    "plt.scatter(X_train,y_train,color=\"blue\", label=\"Training samples\")  \n",
    "plt.scatter(X_test,y_test,color=\"green\", label=\"Target output\")  \n",
    "plt.plot(X_poly_disp,poly_reg.predict(poly_ftrs_d5.fit_transform(X_poly_disp)), color=\"red\", label=\"polyn d = 5\")  \n",
    "plt.scatter(X_test,y_pred_d5, color = \"orange\", label=\"Predicted output\")  \n",
    "plt.xlabel(\"Position Levels\")  \n",
    "plt.ylabel(\"Salary\")  \n",
    "plt.legend()\n",
    "\n",
    "plt.show()"
   ]
  },
  {
   "cell_type": "markdown",
   "id": "a7ac954b",
   "metadata": {},
   "source": [
    "# 7. Comparing performances of all three models"
   ]
  },
  {
   "cell_type": "code",
   "execution_count": 60,
   "id": "576708d8",
   "metadata": {},
   "outputs": [],
   "source": [
    "y_test = scalerY.inverse_transform(y_test)\n",
    "y_pred_d2 = scalerY.inverse_transform(y_pred_d2)\n",
    "y_pred_d3 = scalerY.inverse_transform(y_pred_d3)\n",
    "y_pred_d5 = scalerY.inverse_transform(y_pred_d5)"
   ]
  },
  {
   "cell_type": "code",
   "execution_count": 61,
   "id": "72a73286",
   "metadata": {
    "scrolled": false
   },
   "outputs": [
    {
     "data": {
      "text/html": [
       "<div>\n",
       "<style scoped>\n",
       "    .dataframe tbody tr th:only-of-type {\n",
       "        vertical-align: middle;\n",
       "    }\n",
       "\n",
       "    .dataframe tbody tr th {\n",
       "        vertical-align: top;\n",
       "    }\n",
       "\n",
       "    .dataframe thead th {\n",
       "        text-align: right;\n",
       "    }\n",
       "</style>\n",
       "<table border=\"1\" class=\"dataframe\">\n",
       "  <thead>\n",
       "    <tr style=\"text-align: right;\">\n",
       "      <th></th>\n",
       "      <th>actual Salary</th>\n",
       "      <th>d=2</th>\n",
       "      <th>d=3</th>\n",
       "      <th>d=5</th>\n",
       "    </tr>\n",
       "  </thead>\n",
       "  <tbody>\n",
       "    <tr>\n",
       "      <th>0</th>\n",
       "      <td>300000.0</td>\n",
       "      <td>459299.397920</td>\n",
       "      <td>322866.778920</td>\n",
       "      <td>283901.807835</td>\n",
       "    </tr>\n",
       "    <tr>\n",
       "      <th>1</th>\n",
       "      <td>200000.0</td>\n",
       "      <td>300859.940400</td>\n",
       "      <td>173855.855539</td>\n",
       "      <td>195445.838546</td>\n",
       "    </tr>\n",
       "    <tr>\n",
       "      <th>2</th>\n",
       "      <td>50000.0</td>\n",
       "      <td>35934.136107</td>\n",
       "      <td>90851.022452</td>\n",
       "      <td>57850.418230</td>\n",
       "    </tr>\n",
       "  </tbody>\n",
       "</table>\n",
       "</div>"
      ],
      "text/plain": [
       "   actual Salary            d=2            d=3            d=5\n",
       "0       300000.0  459299.397920  322866.778920  283901.807835\n",
       "1       200000.0  300859.940400  173855.855539  195445.838546\n",
       "2        50000.0   35934.136107   90851.022452   57850.418230"
      ]
     },
     "execution_count": 61,
     "metadata": {},
     "output_type": "execute_result"
    }
   ],
   "source": [
    "TestingData=pd.DataFrame(data=y_test, columns=[\"actual Salary\"])\n",
    "TestingData['d=2']=y_pred_d2\n",
    "TestingData['d=3']=y_pred_d3\n",
    "TestingData['d=5']=y_pred_d5\n",
    "\n",
    "TestingData"
   ]
  }
 ],
 "metadata": {
  "kernelspec": {
   "display_name": "Python 3 (ipykernel)",
   "language": "python",
   "name": "python3"
  },
  "language_info": {
   "codemirror_mode": {
    "name": "ipython",
    "version": 3
   },
   "file_extension": ".py",
   "mimetype": "text/x-python",
   "name": "python",
   "nbconvert_exporter": "python",
   "pygments_lexer": "ipython3",
   "version": "3.7.6"
  }
 },
 "nbformat": 4,
 "nbformat_minor": 5
}
