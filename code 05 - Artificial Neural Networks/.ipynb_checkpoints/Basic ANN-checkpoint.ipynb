{
 "cells": [
  {
   "cell_type": "code",
   "execution_count": 1,
   "id": "bc688f70",
   "metadata": {},
   "outputs": [],
   "source": [
    "import math\n",
    "import numpy as np"
   ]
  },
  {
   "cell_type": "code",
   "execution_count": 2,
   "id": "e0460989",
   "metadata": {},
   "outputs": [],
   "source": [
    "def ReLu(x):\n",
    "    return [x[i] if x[i] > 0 else 0 for i in range(len(x))]"
   ]
  },
  {
   "cell_type": "code",
   "execution_count": 3,
   "id": "4c1ef3cc",
   "metadata": {},
   "outputs": [],
   "source": [
    "def Softmax(x):\n",
    "    return [round(math.exp(x[i])/np.sum(np.array([math.exp(x[j]) for j in range(len(x))])),3) for i in range(len(x))]"
   ]
  },
  {
   "cell_type": "code",
   "execution_count": 4,
   "id": "836dfa8c",
   "metadata": {},
   "outputs": [],
   "source": [
    "x_1 = [4.3, 4.9]\n",
    "w_1 = [0.5,-0.3,-0.2,0.1]\n",
    "w_2 = [-0.3,0.4,-0.2,0.5]"
   ]
  },
  {
   "cell_type": "code",
   "execution_count": 5,
   "id": "bd0e5aff",
   "metadata": {},
   "outputs": [
    {
     "data": {
      "text/plain": [
       "[1.17, 0]"
      ]
     },
     "execution_count": 5,
     "metadata": {},
     "output_type": "execute_result"
    }
   ],
   "source": [
    "x_2 = [\n",
    "    x_1[0]*w_1[0]+x_1[1]*w_1[2],\n",
    "    x_1[0]*w_1[1]+x_1[1]*w_1[3]\n",
    "]\n",
    "x_2 = ReLu(x_2)\n",
    "x_2"
   ]
  },
  {
   "cell_type": "code",
   "execution_count": 6,
   "id": "39275a50",
   "metadata": {},
   "outputs": [
    {
     "data": {
      "text/plain": [
       "[0.306, 0.694]"
      ]
     },
     "execution_count": 6,
     "metadata": {},
     "output_type": "execute_result"
    }
   ],
   "source": [
    "x_3 = [\n",
    "    x_2[0]*w_2[0]+x_2[1]*w_2[2],\n",
    "    x_2[0]*w_2[1]+x_2[1]*w_2[3]\n",
    "]\n",
    "x_3 = Softmax(x_3)\n",
    "x_3"
   ]
  },
  {
   "cell_type": "code",
   "execution_count": 7,
   "id": "8d2e1fd5",
   "metadata": {},
   "outputs": [
    {
     "data": {
      "text/plain": [
       "0.48163599999999995"
      ]
     },
     "execution_count": 7,
     "metadata": {},
     "output_type": "execute_result"
    }
   ],
   "source": [
    "# MSE\n",
    "np.sum([\n",
    "    math.pow(x_3[0]-1,2),\n",
    "    math.pow(x_3[1]-0,2)\n",
    "])*0.5"
   ]
  },
  {
   "cell_type": "code",
   "execution_count": 10,
   "id": "df6d6ddd",
   "metadata": {},
   "outputs": [
    {
     "data": {
      "text/plain": [
       "-0.694"
      ]
     },
     "execution_count": 10,
     "metadata": {},
     "output_type": "execute_result"
    }
   ],
   "source": [
    "x_3[0]-1"
   ]
  },
  {
   "cell_type": "code",
   "execution_count": 8,
   "id": "49254388",
   "metadata": {},
   "outputs": [
    {
     "data": {
      "text/plain": [
       "[-0.381198, 0.481198, -0.2, 0.5]"
      ]
     },
     "execution_count": 8,
     "metadata": {},
     "output_type": "execute_result"
    }
   ],
   "source": [
    "w_2_new = [\n",
    "    w_2[0]+(x_3[0]-1)*x_2[0]*0.1,\n",
    "    w_2[1]+(x_3[1]-0)*x_2[0]*0.1,\n",
    "    w_2[2]+(x_3[0]-1)*x_2[1]*0.1,\n",
    "    w_2[3]+(x_3[1]-0)*x_2[1]*0.1, \n",
    "]\n",
    "w_2_new"
   ]
  },
  {
   "cell_type": "code",
   "execution_count": 9,
   "id": "7fa05f7b",
   "metadata": {},
   "outputs": [
    {
     "data": {
      "text/plain": [
       "[0.35079000000000005, -0.0015800000000000258, -0.54006, 0.44006]"
      ]
     },
     "execution_count": 9,
     "metadata": {},
     "output_type": "execute_result"
    }
   ],
   "source": [
    "w_1_new = [\n",
    "    w_1[0]+(x_3[0]-1)*x_1[0]*0.1*w_2[3],\n",
    "    w_1[1]+(x_3[1]-0)*x_1[0]*0.1,\n",
    "    w_1[2]+(x_3[0]-1)*x_1[1]*0.1,\n",
    "    w_1[3]+(x_3[1]-0)*x_1[1]*0.1, \n",
    "]\n",
    "w_1_new"
   ]
  },
  {
   "cell_type": "code",
   "execution_count": 13,
   "id": "686da592",
   "metadata": {},
   "outputs": [
    {
     "data": {
      "text/plain": [
       "-0.3172427"
      ]
     },
     "execution_count": 13,
     "metadata": {},
     "output_type": "execute_result"
    }
   ],
   "source": [
    "## dy_pred/dw4\n",
    "# 1.17*math.exp((-0.3+0.4)*1.17)/math.pow((math.exp(-0.3*1.17)+math.exp(0.4*1.17)),2)\n",
    "## dMSE/dw4\n",
    "# -0.694*0.248455\n",
    "-0.3+0.1*(-0.172427)"
   ]
  }
 ],
 "metadata": {
  "kernelspec": {
   "display_name": "Python 3.7 (tensorflow)",
   "language": "python",
   "name": "tensorflow"
  },
  "language_info": {
   "codemirror_mode": {
    "name": "ipython",
    "version": 3
   },
   "file_extension": ".py",
   "mimetype": "text/x-python",
   "name": "python",
   "nbconvert_exporter": "python",
   "pygments_lexer": "ipython3",
   "version": "3.7.6"
  }
 },
 "nbformat": 4,
 "nbformat_minor": 5
}
